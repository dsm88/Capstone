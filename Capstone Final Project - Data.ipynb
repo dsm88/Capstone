{
 "cells": [
  {
   "cell_type": "markdown",
   "metadata": {},
   "source": [
    "<a><img src=\"https://cdn.iconscout.com/icon/free/png-256/data-science-46-1170621.png\" width=\"100\" align=\"center\"></a>"
   ]
  },
  {
   "cell_type": "markdown",
   "metadata": {},
   "source": [
    "<h1><center>Applied Data Science Capstone</center></h1>\n",
    "<h3><center>Segmenting and Clustering Neighborhoods in Kuwait</center></h3>"
   ]
  },
  {
   "cell_type": "markdown",
   "metadata": {},
   "source": [
    "## 1. Data"
   ]
  },
  {
   "cell_type": "markdown",
   "metadata": {},
   "source": [
    "In order to answer the business question set forth in the previous notebook, we will be gathering data from a few sources. The first source will be Wikipedia. From Wikipedia, we will gather the areas of Kuwait. Next, using Google Maps' API, we will collect the approximate coordinates of each area. With the coordinates and area names collected, we will next be using the Foursquare API to collect venue information for each area, within a designated radius. The venue data collected from Foursquare will then be used to determine the top venues in each area. \n",
    "\n",
    "Once the venue information is gathered, the next step will be to cluster areas in Kuwait based on venues categories. This information will allow us to cluster customers in each area before moving on to identify areas within the clusters which are prime candidates for a new venue, as well as identifying which specific venues would be the most lucrative."
   ]
  },
  {
   "cell_type": "code",
   "execution_count": null,
   "metadata": {},
   "outputs": [],
   "source": []
  }
 ],
 "metadata": {
  "kernelspec": {
   "display_name": "Python 3",
   "language": "python",
   "name": "python3"
  },
  "language_info": {
   "codemirror_mode": {
    "name": "ipython",
    "version": 3
   },
   "file_extension": ".py",
   "mimetype": "text/x-python",
   "name": "python",
   "nbconvert_exporter": "python",
   "pygments_lexer": "ipython3",
   "version": "3.7.3"
  }
 },
 "nbformat": 4,
 "nbformat_minor": 2
}
