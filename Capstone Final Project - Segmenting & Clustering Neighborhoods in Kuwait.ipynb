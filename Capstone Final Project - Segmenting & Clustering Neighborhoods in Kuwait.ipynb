{
 "cells": [
  {
   "cell_type": "markdown",
   "metadata": {},
   "source": [
    "<a><img src=\"https://cdn.iconscout.com/icon/free/png-256/data-science-46-1170621.png\" width=\"100\" align=\"center\"></a>"
   ]
  },
  {
   "cell_type": "markdown",
   "metadata": {},
   "source": [
    "<h1><center>Applied Data Science Capstone</center></h1>\n",
    "<h3><center>Segmenting and Clustering Neighborhoods in Kuwait</center></h3>"
   ]
  },
  {
   "cell_type": "markdown",
   "metadata": {},
   "source": [
    "Welcome to my final project notebook. This notebook will delve deep into the neighborhoods of Kuwait and, using the Foursquare API, find venues in each neighborhood. After gathering all of the required data, analysis will follow to help cluster the different neighborhoods and gain insight into which areas are perfect for opening a new business. In addition, it will help suggest the best businesses to open in those areas."
   ]
  },
  {
   "cell_type": "markdown",
   "metadata": {},
   "source": [
    "## Table of Contents\n",
    "\n",
    "<div class=\"alert alert-block alert-info\" style=\"margin-top: 20px\">\n",
    "<font size = 3>\n",
    "\n",
    "0. [Preface](#0)\n",
    "1. [Gathering Data](#1)\n",
    "2. [Get Latitude and Longitude](#2)\n",
    "3. [Create a Map of Kuwait with Neighborhoods Superimposed](#3)\n",
    "4. [Lets Do Some Analysis](#4)\n",
    "5. [Data Wrangling](#5)\n",
    "6. [Cluster the Neighborhoods](#6)\n",
    "7. [Lets Visualize the Clusters](#7)\n",
    "8. [Gaining Insight](#8)\n",
    "9. [Results](#9)\n",
    "10. [Discussion & Recommendations](#10)\n",
    "11. [Conclusion](#11)\n",
    "</font>\n",
    "</div>"
   ]
  },
  {
   "cell_type": "markdown",
   "metadata": {},
   "source": [
    "## 0. Preface"
   ]
  },
  {
   "cell_type": "markdown",
   "metadata": {},
   "source": [
    "<h3>0. 1. Introduction</h3>"
   ]
  },
  {
   "cell_type": "markdown",
   "metadata": {},
   "source": [
    "Welcome to my final project notebook. This notebook will delve deep into the neighborhoods of Kuwait and, using the Foursquare API, find venues in each neighborhood. After gathering all of the required data, analysis will follow to help cluster the different neighborhoods and gain insight into which areas are perfect for opening a new business. In addition, it will help suggest the best businesses to open in those areas."
   ]
  },
  {
   "cell_type": "markdown",
   "metadata": {},
   "source": [
    "<h3>0. 2. Business Problem</h3>"
   ]
  },
  {
   "cell_type": "markdown",
   "metadata": {},
   "source": [
    "A client would like to open a new business, however they do not know what kind of business they would like to open, let alone where to open it. In this project, I will determine the optimal areas in Kuwait to open a business, as well as the perfect business for that area."
   ]
  },
  {
   "cell_type": "markdown",
   "metadata": {},
   "source": [
    "<h3>0. 3. Data</h3>"
   ]
  },
  {
   "cell_type": "markdown",
   "metadata": {},
   "source": [
    "In order to answer the business question set forth in the previous notebook, we will be gathering data from a few sources. The first source will be Wikipedia. From Wikipedia, we will gather the areas of Kuwait. Next, using Google Maps' API, we will collect the approximate coordinates of each area. With the coordinates and area names collected, we will next be using the Foursquare API to collect venue information for each area, within a designated radius. The venue data collected from Foursquare will then be used to determine the top venues in each area. \n",
    "\n",
    "Once the venue information is gathered, the next step will be to cluster areas in Kuwait based on venues categories. This information will allow us to cluster customers in each area before moving on to identify areas within the clusters which are prime candidates for a new venue, as well as identifying which specific venues would be the most lucrative."
   ]
  },
  {
   "cell_type": "markdown",
   "metadata": {},
   "source": [
    "## 1. Gathering Data\n",
    "<a id=\"1\"></a>"
   ]
  },
  {
   "cell_type": "markdown",
   "metadata": {},
   "source": [
    "<h3>1. 1. Import Data</h3>"
   ]
  },
  {
   "cell_type": "markdown",
   "metadata": {},
   "source": [
    "<h4>1. 1. 1. Import Libraries</h4>"
   ]
  },
  {
   "cell_type": "code",
   "execution_count": 305,
   "metadata": {},
   "outputs": [],
   "source": [
    "#Install dependencies if needed\n",
    "# uncomment the below line if you haven't completed the Foursquare API lab\n",
    "#!conda install -c conda-forge geopy --yes\n",
    "# uncomment the below line if you haven't completed the Foursquare API lab\n",
    "#!conda install -c conda-forge folium=0.5.0 --yes\n",
    "#!pip install bs4\n",
    "\n",
    "#Part 1: Scraping data\n",
    "import pandas as pd\n",
    "import numpy as np\n",
    "import urllib.request, urllib.parse, urllib.error\n",
    "import ssl\n",
    "from bs4 import BeautifulSoup\n",
    "import re\n",
    "\n",
    "#Part 2: Data Analysis\n",
    "import numpy as np\n",
    "import pandas as pd\n",
    "import json\n",
    "import geocoder\n",
    "from geopy.geocoders import Nominatim # convert an address into latitude and longitude values\n",
    "import requests\n",
    "from pandas.io.json import json_normalize # tranform JSON file into a pandas dataframe\n",
    "import matplotlib.cm as cm\n",
    "import matplotlib.colors as colors\n",
    "from sklearn.cluster import KMeans # import k-means from clustering stage\n",
    "import folium # map rendering library\n",
    "import matplotlib.pyplot as plt\n",
    "from sklearn.neighbors import KNeighborsClassifier\n",
    "import requests\n",
    "from sklearn.metrics import silhouette_score"
   ]
  },
  {
   "cell_type": "markdown",
   "metadata": {},
   "source": [
    "<h4>1. 1. 2. Create SSL</h4>"
   ]
  },
  {
   "cell_type": "code",
   "execution_count": 19,
   "metadata": {},
   "outputs": [],
   "source": [
    "ctx = ssl.create_default_context()\n",
    "ctx.check_hostname = False\n",
    "ctx.verify_mode = ssl.CERT_NONE"
   ]
  },
  {
   "cell_type": "markdown",
   "metadata": {},
   "source": [
    "<h4>1. 1. 3. Set Up Handler</h4>"
   ]
  },
  {
   "cell_type": "code",
   "execution_count": 20,
   "metadata": {},
   "outputs": [],
   "source": [
    "url = \"https://en.wikipedia.org/wiki/Areas_of_Kuwait\"\n",
    "fhand = urllib.request.urlopen(url, context=ctx).read()\n",
    "soup = BeautifulSoup(fhand, 'lxml')"
   ]
  },
  {
   "cell_type": "markdown",
   "metadata": {},
   "source": [
    "<h4>1. 1. 4. Populate Table</h4>"
   ]
  },
  {
   "cell_type": "code",
   "execution_count": 21,
   "metadata": {},
   "outputs": [],
   "source": [
    "df = pd.DataFrame()"
   ]
  },
  {
   "cell_type": "code",
   "execution_count": 22,
   "metadata": {},
   "outputs": [
    {
     "name": "stderr",
     "output_type": "stream",
     "text": [
      "C:\\Users\\deez\\Anaconda3\\lib\\site-packages\\ipykernel_launcher.py:13: FutureWarning: Sorting because non-concatenation axis is not aligned. A future version\n",
      "of pandas will change to not sort by default.\n",
      "\n",
      "To accept the future behavior, pass 'sort=False'.\n",
      "\n",
      "To retain the current behavior and silence the warning, pass 'sort=True'.\n",
      "\n",
      "  del sys.path[0]\n"
     ]
    }
   ],
   "source": [
    "table_1 = soup.find_all('table')[1]\n",
    "table_2 = soup.find_all('table')[2]\n",
    "table_3 = soup.find_all('table')[3]\n",
    "table_4 = soup.find_all('table')[4]\n",
    "table_5 = soup.find_all('table')[5]\n",
    "\n",
    "df_1 = pd.read_html(str(table_1))\n",
    "df_2 = pd.read_html(str(table_2))\n",
    "df_3 = pd.read_html(str(table_3))\n",
    "df_4 = pd.read_html(str(table_4))\n",
    "df_5 = pd.read_html(str(table_5))\n",
    "\n",
    "df = pd.concat([df_1[0], df_2[0], df_3[0], df_4[0], df_5[0]], axis=0)"
   ]
  },
  {
   "cell_type": "code",
   "execution_count": 23,
   "metadata": {},
   "outputs": [
    {
     "data": {
      "text/plain": [
       "(84, 6)"
      ]
     },
     "execution_count": 23,
     "metadata": {},
     "output_type": "execute_result"
    }
   ],
   "source": [
    "df.shape"
   ]
  },
  {
   "cell_type": "code",
   "execution_count": 25,
   "metadata": {},
   "outputs": [],
   "source": [
    "df_kw = df.copy()"
   ]
  },
  {
   "cell_type": "markdown",
   "metadata": {},
   "source": [
    "<h3>1. 2. Clean the DataFrame</h3>"
   ]
  },
  {
   "cell_type": "markdown",
   "metadata": {},
   "source": [
    "<h4>1. 2. 1. Select only Area column</h4>"
   ]
  },
  {
   "cell_type": "code",
   "execution_count": 26,
   "metadata": {},
   "outputs": [
    {
     "data": {
      "text/html": [
       "<div>\n",
       "<style scoped>\n",
       "    .dataframe tbody tr th:only-of-type {\n",
       "        vertical-align: middle;\n",
       "    }\n",
       "\n",
       "    .dataframe tbody tr th {\n",
       "        vertical-align: top;\n",
       "    }\n",
       "\n",
       "    .dataframe thead th {\n",
       "        text-align: right;\n",
       "    }\n",
       "</style>\n",
       "<table border=\"1\" class=\"dataframe\">\n",
       "  <thead>\n",
       "    <tr style=\"text-align: right;\">\n",
       "      <th></th>\n",
       "      <th>Area</th>\n",
       "    </tr>\n",
       "  </thead>\n",
       "  <tbody>\n",
       "    <tr>\n",
       "      <th>0</th>\n",
       "      <td>Kuwait City</td>\n",
       "    </tr>\n",
       "    <tr>\n",
       "      <th>1</th>\n",
       "      <td>Dasmān</td>\n",
       "    </tr>\n",
       "    <tr>\n",
       "      <th>2</th>\n",
       "      <td>Sharq</td>\n",
       "    </tr>\n",
       "    <tr>\n",
       "      <th>3</th>\n",
       "      <td>Mirgāb</td>\n",
       "    </tr>\n",
       "    <tr>\n",
       "      <th>4</th>\n",
       "      <td>Jibla</td>\n",
       "    </tr>\n",
       "  </tbody>\n",
       "</table>\n",
       "</div>"
      ],
      "text/plain": [
       "          Area\n",
       "0  Kuwait City\n",
       "1       Dasmān\n",
       "2        Sharq\n",
       "3       Mirgāb\n",
       "4        Jibla"
      ]
     },
     "execution_count": 26,
     "metadata": {},
     "output_type": "execute_result"
    }
   ],
   "source": [
    "df_kw.reset_index(drop=True, inplace=True)\n",
    "df_kw = df_kw[['English']]\n",
    "df_kw.rename(columns={'English':'Area'}, inplace=True)\n",
    "df_kw.head()"
   ]
  },
  {
   "cell_type": "markdown",
   "metadata": {},
   "source": [
    "<h4>1. 2. 2. Drop any NaN calues</h4>"
   ]
  },
  {
   "cell_type": "code",
   "execution_count": 27,
   "metadata": {},
   "outputs": [
    {
     "data": {
      "text/plain": [
       "(81, 1)"
      ]
     },
     "execution_count": 27,
     "metadata": {},
     "output_type": "execute_result"
    }
   ],
   "source": [
    "df_kw.dropna(axis=0, inplace=True)\n",
    "df_kw.shape"
   ]
  },
  {
   "cell_type": "markdown",
   "metadata": {},
   "source": [
    "<h4>1. 2. 3. Add Abu Hassaniya</h4>"
   ]
  },
  {
   "cell_type": "code",
   "execution_count": 28,
   "metadata": {},
   "outputs": [],
   "source": [
    "df_kw.loc[81] = 'Abu Hassaniya'"
   ]
  },
  {
   "cell_type": "markdown",
   "metadata": {},
   "source": [
    "<h4>1. 2. 4. Locate all cells with word suburb</h4>"
   ]
  },
  {
   "cell_type": "code",
   "execution_count": 29,
   "metadata": {},
   "outputs": [],
   "source": [
    "suburbs = df_kw[df_kw['Area'].str.contains(\"suburb\")].index"
   ]
  },
  {
   "cell_type": "markdown",
   "metadata": {},
   "source": [
    "<h4>1. 2. 5. Get rid of word suburb and fix errors</h4>"
   ]
  },
  {
   "cell_type": "code",
   "execution_count": 30,
   "metadata": {},
   "outputs": [],
   "source": [
    "for i in suburbs:\n",
    "    df_kw['Area'].iloc[i] = df_kw['Area'].iloc[i][:-7]"
   ]
  },
  {
   "cell_type": "markdown",
   "metadata": {},
   "source": [
    "<h4>1. 2. 6. Change wrong area names</h4>"
   ]
  },
  {
   "cell_type": "code",
   "execution_count": 31,
   "metadata": {},
   "outputs": [],
   "source": [
    "names = ['Ghirnata', \"Bi'di'\", 'Nigra', 'Aqila', 'Zuhar']\n",
    "names_in = [25, 38, 39, 56, 57]"
   ]
  },
  {
   "cell_type": "code",
   "execution_count": 32,
   "metadata": {},
   "outputs": [
    {
     "name": "stdout",
     "output_type": "stream",
     "text": [
      "Ghirnata\n",
      "New name: Granada\n",
      "Bi'di'\n",
      "New name: Bidaa\n",
      "Nigra\n",
      "New name: Nuqra\n",
      "Aqila\n",
      "New name: Egaila\n",
      "Zuhar\n",
      "New name: Dahar\n"
     ]
    }
   ],
   "source": [
    "for i in names_in:\n",
    "    print(df_kw['Area'].iloc[i])\n",
    "    new_name = input('New name: ')\n",
    "    df_kw['Area'].iloc[i] = new_name"
   ]
  },
  {
   "cell_type": "markdown",
   "metadata": {},
   "source": [
    "## 2. Get Latitude and Longitude\n",
    "\n",
    "<a id=\"2\"></a>"
   ]
  },
  {
   "cell_type": "markdown",
   "metadata": {},
   "source": [
    "<h3>2. 1. Google Maps API</h3>"
   ]
  },
  {
   "cell_type": "markdown",
   "metadata": {},
   "source": [
    "<h4>2. 1. 1. Define API credentials</h4>"
   ]
  },
  {
   "cell_type": "markdown",
   "metadata": {},
   "source": [
    "The __credentials__ are hidden here\n",
    "<!---\n",
    "#Google Maps\n",
    "api_key = 'XXXXXXX'\n",
    "--->"
   ]
  },
  {
   "cell_type": "markdown",
   "metadata": {},
   "source": [
    "<h4>2. 1. 2. Define function to call Google API</h4>"
   ]
  },
  {
   "cell_type": "code",
   "execution_count": 37,
   "metadata": {},
   "outputs": [],
   "source": [
    "import requests\n",
    "\n",
    "def get_coordinates(api_key, address, verbose=False):\n",
    "    try:\n",
    "        url = 'https://maps.googleapis.com/maps/api/geocode/json?key={}&address={}'.format(api_key, address)\n",
    "        response = requests.get(url).json()\n",
    "        if verbose:\n",
    "            print('Google Maps API JSON result =>', response)\n",
    "        results = response['results']\n",
    "        geographical_data = results[0]['geometry']['location'] # get geographical coordinates\n",
    "        lat = geographical_data['lat']\n",
    "        lon = geographical_data['lng']\n",
    "        return [lat, lon]\n",
    "    except:\n",
    "        return [None, None]"
   ]
  },
  {
   "cell_type": "markdown",
   "metadata": {},
   "source": [
    "<h4>2. 1. 3. Make call and retreive latitude, longitude</h4>"
   ]
  },
  {
   "cell_type": "code",
   "execution_count": 38,
   "metadata": {},
   "outputs": [
    {
     "name": "stdout",
     "output_type": "stream",
     "text": [
      " .  .  .  .  .  .  .  .  .  .  .  .  .  .  .  .  .  .  .  .  .  .  .  .  .  .  .  .  .  .  .  .  .  .  .  .  .  .  .  .  .  .  .  .  .  .  .  .  .  .  .  .  .  .  .  .  .  .  .  .  .  .  .  .  .  .  .  .  .  .  .  .  .  .  .  .  .  .  .  .  .  . Done!\n"
     ]
    }
   ],
   "source": [
    "latitudes = []\n",
    "longitudes = []\n",
    "i=0\n",
    "\n",
    "# loop until you get all the coordinates\n",
    "while i < len(df_kw):\n",
    "    address = df_kw['Area'].iloc[i] + ', Kuwait'\n",
    "    g = get_coordinates(api_key, address)\n",
    "    latitudes.append(g[0])\n",
    "    longitudes.append(g[1])\n",
    "    print(' . ', end='')\n",
    "    i += 1\n",
    "print('Done!')"
   ]
  },
  {
   "cell_type": "markdown",
   "metadata": {},
   "source": [
    "<h3>2. 2. Add lat, long to dataframe</h3>"
   ]
  },
  {
   "cell_type": "markdown",
   "metadata": {},
   "source": [
    "<h4>2. 2. 1. Append lists</h4>"
   ]
  },
  {
   "cell_type": "code",
   "execution_count": 39,
   "metadata": {
    "scrolled": false
   },
   "outputs": [
    {
     "data": {
      "text/html": [
       "<div>\n",
       "<style scoped>\n",
       "    .dataframe tbody tr th:only-of-type {\n",
       "        vertical-align: middle;\n",
       "    }\n",
       "\n",
       "    .dataframe tbody tr th {\n",
       "        vertical-align: top;\n",
       "    }\n",
       "\n",
       "    .dataframe thead th {\n",
       "        text-align: right;\n",
       "    }\n",
       "</style>\n",
       "<table border=\"1\" class=\"dataframe\">\n",
       "  <thead>\n",
       "    <tr style=\"text-align: right;\">\n",
       "      <th></th>\n",
       "      <th>Area</th>\n",
       "      <th>Latitude</th>\n",
       "      <th>Longitude</th>\n",
       "    </tr>\n",
       "  </thead>\n",
       "  <tbody>\n",
       "    <tr>\n",
       "      <th>0</th>\n",
       "      <td>Kuwait City</td>\n",
       "      <td>29.375859</td>\n",
       "      <td>47.977405</td>\n",
       "    </tr>\n",
       "    <tr>\n",
       "      <th>1</th>\n",
       "      <td>Dasmān</td>\n",
       "      <td>29.387804</td>\n",
       "      <td>47.999790</td>\n",
       "    </tr>\n",
       "    <tr>\n",
       "      <th>2</th>\n",
       "      <td>Sharq</td>\n",
       "      <td>29.382323</td>\n",
       "      <td>47.988644</td>\n",
       "    </tr>\n",
       "    <tr>\n",
       "      <th>3</th>\n",
       "      <td>Mirgāb</td>\n",
       "      <td>29.366138</td>\n",
       "      <td>47.983692</td>\n",
       "    </tr>\n",
       "    <tr>\n",
       "      <th>4</th>\n",
       "      <td>Jibla</td>\n",
       "      <td>29.369934</td>\n",
       "      <td>47.968836</td>\n",
       "    </tr>\n",
       "  </tbody>\n",
       "</table>\n",
       "</div>"
      ],
      "text/plain": [
       "          Area   Latitude  Longitude\n",
       "0  Kuwait City  29.375859  47.977405\n",
       "1       Dasmān  29.387804  47.999790\n",
       "2        Sharq  29.382323  47.988644\n",
       "3       Mirgāb  29.366138  47.983692\n",
       "4        Jibla  29.369934  47.968836"
      ]
     },
     "execution_count": 39,
     "metadata": {},
     "output_type": "execute_result"
    }
   ],
   "source": [
    "df_kw['Latitude'] = latitudes\n",
    "df_kw['Longitude'] = longitudes\n",
    "df_kw.head()"
   ]
  },
  {
   "cell_type": "markdown",
   "metadata": {},
   "source": [
    "<h3>2. 3. Check for any missing values</h3>"
   ]
  },
  {
   "cell_type": "markdown",
   "metadata": {},
   "source": [
    "<h4>2. 3. 1. Script to count number of NaN</h4>"
   ]
  },
  {
   "cell_type": "code",
   "execution_count": 40,
   "metadata": {
    "scrolled": true
   },
   "outputs": [
    {
     "name": "stdout",
     "output_type": "stream",
     "text": [
      "There are 0 missing values\n"
     ]
    }
   ],
   "source": [
    "count = 0\n",
    "for i, v in enumerate(df_kw['Latitude']):\n",
    "    if v == None:\n",
    "        count += 1\n",
    "print('There are {} missing values'.format(count))"
   ]
  },
  {
   "cell_type": "markdown",
   "metadata": {},
   "source": [
    "<h4>2. 3. 2. Export the dataframe...</h4>"
   ]
  },
  {
   "cell_type": "code",
   "execution_count": 41,
   "metadata": {},
   "outputs": [],
   "source": [
    "df_kw.to_csv('df_kw.csv')"
   ]
  },
  {
   "cell_type": "markdown",
   "metadata": {},
   "source": [
    "<h4>2. 3. 3. ...Import the dataframe if continuing later</h4>"
   ]
  },
  {
   "cell_type": "code",
   "execution_count": null,
   "metadata": {},
   "outputs": [],
   "source": [
    "df_kw = pd.read_csv('df_kw.csv')"
   ]
  },
  {
   "cell_type": "markdown",
   "metadata": {},
   "source": [
    "## 3. Create a Map of Kuwait with Neighborhoods Superimposed\n",
    "\n",
    "<a id=\"3\"></a>"
   ]
  },
  {
   "cell_type": "markdown",
   "metadata": {},
   "source": [
    "<h3>3. 1. Get Latitude and Longitude of Kuwait City</h3>"
   ]
  },
  {
   "cell_type": "markdown",
   "metadata": {},
   "source": [
    "<h4>3. 1. 1. Select Area for centering</h4>"
   ]
  },
  {
   "cell_type": "code",
   "execution_count": 42,
   "metadata": {},
   "outputs": [
    {
     "name": "stdout",
     "output_type": "stream",
     "text": [
      "The coordinates of Al Ahmadi, Kuwait are: 29.0853759, 48.0654706\n"
     ]
    }
   ],
   "source": [
    "address = 'Al Ahmadi, Kuwait'\n",
    "g = get_coordinates(api_key, address)\n",
    "latitude = g[0]\n",
    "longitude = g[1]\n",
    "print('The coordinates of {} are: {}, {}'.format(address, latitude, longitude))"
   ]
  },
  {
   "cell_type": "markdown",
   "metadata": {},
   "source": [
    "<h3>3. 2. Generate Map</h3>"
   ]
  },
  {
   "cell_type": "markdown",
   "metadata": {},
   "source": [
    "<h4>3. 2. 1. Generate map centered around the above coordinates</h4>"
   ]
  },
  {
   "cell_type": "code",
   "execution_count": 322,
   "metadata": {
    "scrolled": false
   },
   "outputs": [
    {
     "data": {
      "text/html": [
       "<div style=\"width:100%;\"><div style=\"position:relative;width:100%;height:0;padding-bottom:60%;\"><iframe src=\"data:text/html;charset=utf-8;base64,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\" style=\"position:absolute;width:100%;height:100%;left:0;top:0;border:none !important;\" allowfullscreen webkitallowfullscreen mozallowfullscreen></iframe></div></div>"
      ],
      "text/plain": [
       "<folium.folium.Map at 0x187189e1668>"
      ]
     },
     "execution_count": 322,
     "metadata": {},
     "output_type": "execute_result"
    }
   ],
   "source": [
    "# create map of Kuwait using latitude and longitude values\n",
    "map_kuwait = folium.Map(location=[latitude, longitude], zoom_start=9.5)\n",
    "\n",
    "# add markers to map\n",
    "for area, lat, lng in zip(df_kw['Area'], df_kw['Latitude'], df_kw['Longitude']):\n",
    "    label = '{}'.format(area)\n",
    "    label = folium.Popup(label, parse_html=True)\n",
    "    folium.CircleMarker(\n",
    "        [lat, lng],\n",
    "        radius=5,\n",
    "        popup=label,\n",
    "        color='blue',\n",
    "        fill=True,\n",
    "        fill_color='#3186cc',\n",
    "        fill_opacity=0.7,\n",
    "        parse_html=False).add_to(map_kuwait)  \n",
    "\n",
    "map_kuwait"
   ]
  },
  {
   "cell_type": "markdown",
   "metadata": {},
   "source": [
    "## 4. Lets Do Some Analysis\n",
    "<a id=\"4\"></a>"
   ]
  },
  {
   "cell_type": "markdown",
   "metadata": {},
   "source": [
    "<h3>4. 1. Foursquare API</h3>"
   ]
  },
  {
   "cell_type": "markdown",
   "metadata": {},
   "source": [
    "<h4>4. 1. 1. Define Foursquare Credentials</h4>"
   ]
  },
  {
   "cell_type": "markdown",
   "metadata": {},
   "source": [
    "The __credentials__ are hidden here\n",
    "\n",
    "<!---\n",
    "CLIENT_ID = 'XXXXXX' # your Foursquare ID\n",
    "CLIENT_SECRET = 'XXXXXX' \n",
    "VERSION = '20180605' # Foursquare API version\n",
    "--->\n",
    "<!---\n",
    "print('Your credentails:')\n",
    "print('CLIENT_ID: ' + CLIENT_ID)\n",
    "print('CLIENT_SECRET:' + CLIENT_SECRET)\n",
    "--->"
   ]
  },
  {
   "cell_type": "markdown",
   "metadata": {},
   "source": [
    "<h3>4. 2. Explore Each Neighborhood</h3>"
   ]
  },
  {
   "cell_type": "markdown",
   "metadata": {},
   "source": [
    "<h4>4. 2. 1. Define get venues function</h4>"
   ]
  },
  {
   "cell_type": "code",
   "execution_count": 48,
   "metadata": {},
   "outputs": [],
   "source": [
    "def getNearbyVenues(names, latitudes, longitudes, radius=500):\n",
    "    LIMIT = 100\n",
    "    radius = 700\n",
    "    venues_list=[]\n",
    "    for name, lat, lng in zip(names, latitudes, longitudes):\n",
    "        print(' . ', end='')\n",
    "            \n",
    "        # create the API request URL\n",
    "        url = 'https://api.foursquare.com/v2/venues/explore?&client_id={}&client_secret={}&v={}&ll={},{}&radius={}&limit={}'.format(\n",
    "            CLIENT_ID, \n",
    "            CLIENT_SECRET, \n",
    "            VERSION, \n",
    "            lat, \n",
    "            lng, \n",
    "            radius, \n",
    "            LIMIT)\n",
    "            \n",
    "        # make the GET request\n",
    "        results = requests.get(url).json()[\"response\"]['groups'][0]['items']\n",
    "        \n",
    "        # return only relevant information for each nearby venue\n",
    "        venues_list.append([(\n",
    "            name, \n",
    "            lat, \n",
    "            lng, \n",
    "            v['venue']['name'], \n",
    "            v['venue']['location']['lat'], \n",
    "            v['venue']['location']['lng'],  \n",
    "            v['venue']['categories'][0]['name']) for v in results])\n",
    "\n",
    "    nearby_venues = pd.DataFrame([item for venue_list in venues_list for item in venue_list])\n",
    "    nearby_venues.columns = ['Area', \n",
    "                  'Area Lat', \n",
    "                  'Area Long', \n",
    "                  'Venue', \n",
    "                  'Venue Lat', \n",
    "                  'Venue Long', \n",
    "                  'Category']\n",
    "    print('done!')\n",
    "    return(nearby_venues)"
   ]
  },
  {
   "cell_type": "markdown",
   "metadata": {},
   "source": [
    "<h4>4. 2. 2. Get the venues</h4>"
   ]
  },
  {
   "cell_type": "code",
   "execution_count": 49,
   "metadata": {
    "scrolled": true
   },
   "outputs": [
    {
     "name": "stdout",
     "output_type": "stream",
     "text": [
      " .  .  .  .  .  .  .  .  .  .  .  .  .  .  .  .  .  .  .  .  .  .  .  .  .  .  .  .  .  .  .  .  .  .  .  .  .  .  .  .  .  .  .  .  .  .  .  .  .  .  .  .  .  .  .  .  .  .  .  .  .  .  .  .  .  .  .  .  .  .  .  .  .  .  .  .  .  .  .  .  .  . done!\n"
     ]
    }
   ],
   "source": [
    "kuwait_venues = getNearbyVenues(names = df_kw['Area'], latitudes = df_kw['Latitude'], longitudes = df_kw['Longitude'])"
   ]
  },
  {
   "cell_type": "markdown",
   "metadata": {},
   "source": [
    "<h4>4. 2. 3. Save the dataframe to continue later...</h4>"
   ]
  },
  {
   "cell_type": "code",
   "execution_count": 50,
   "metadata": {},
   "outputs": [],
   "source": [
    "kuwait_venues.to_csv('kuwait_venues.csv')"
   ]
  },
  {
   "cell_type": "markdown",
   "metadata": {},
   "source": [
    "<h4>4. 2. 4. ...Import the Dataframe if continuing later</h4>"
   ]
  },
  {
   "cell_type": "code",
   "execution_count": 51,
   "metadata": {},
   "outputs": [],
   "source": [
    "kuwait_venues = pd.read_csv('kuwait_venues.csv')"
   ]
  },
  {
   "cell_type": "markdown",
   "metadata": {},
   "source": [
    "## 5. Data Wrangling\n",
    "<a id=\"5\"></a>"
   ]
  },
  {
   "cell_type": "markdown",
   "metadata": {},
   "source": [
    "<h3>5. 1. Foursquare returned information</h3>"
   ]
  },
  {
   "cell_type": "markdown",
   "metadata": {},
   "source": [
    "<h4>5. 1. 1. Lets check the size of the returned dataframe</h4>"
   ]
  },
  {
   "cell_type": "code",
   "execution_count": 56,
   "metadata": {},
   "outputs": [
    {
     "data": {
      "text/html": [
       "<div>\n",
       "<style scoped>\n",
       "    .dataframe tbody tr th:only-of-type {\n",
       "        vertical-align: middle;\n",
       "    }\n",
       "\n",
       "    .dataframe tbody tr th {\n",
       "        vertical-align: top;\n",
       "    }\n",
       "\n",
       "    .dataframe thead th {\n",
       "        text-align: right;\n",
       "    }\n",
       "</style>\n",
       "<table border=\"1\" class=\"dataframe\">\n",
       "  <thead>\n",
       "    <tr style=\"text-align: right;\">\n",
       "      <th></th>\n",
       "      <th>Unnamed: 0</th>\n",
       "      <th>Area</th>\n",
       "      <th>Area Lat</th>\n",
       "      <th>Area Long</th>\n",
       "      <th>Venue</th>\n",
       "      <th>Venue Lat</th>\n",
       "      <th>Venue Long</th>\n",
       "      <th>Category</th>\n",
       "    </tr>\n",
       "  </thead>\n",
       "  <tbody>\n",
       "    <tr>\n",
       "      <th>0</th>\n",
       "      <td>0</td>\n",
       "      <td>Kuwait City</td>\n",
       "      <td>29.375859</td>\n",
       "      <td>47.977405</td>\n",
       "      <td>Concrete</td>\n",
       "      <td>29.375199</td>\n",
       "      <td>47.977508</td>\n",
       "      <td>Breakfast Spot</td>\n",
       "    </tr>\n",
       "    <tr>\n",
       "      <th>1</th>\n",
       "      <td>1</td>\n",
       "      <td>Kuwait City</td>\n",
       "      <td>29.375859</td>\n",
       "      <td>47.977405</td>\n",
       "      <td>Pick Yo (بك يو)</td>\n",
       "      <td>29.375684</td>\n",
       "      <td>47.977405</td>\n",
       "      <td>Frozen Yogurt Shop</td>\n",
       "    </tr>\n",
       "    <tr>\n",
       "      <th>2</th>\n",
       "      <td>2</td>\n",
       "      <td>Kuwait City</td>\n",
       "      <td>29.375859</td>\n",
       "      <td>47.977405</td>\n",
       "      <td>HABRA</td>\n",
       "      <td>29.376388</td>\n",
       "      <td>47.977048</td>\n",
       "      <td>Steakhouse</td>\n",
       "    </tr>\n",
       "    <tr>\n",
       "      <th>3</th>\n",
       "      <td>3</td>\n",
       "      <td>Kuwait City</td>\n",
       "      <td>29.375859</td>\n",
       "      <td>47.977405</td>\n",
       "      <td>Tobys Estate (توبيس إستيت)</td>\n",
       "      <td>29.375201</td>\n",
       "      <td>47.978188</td>\n",
       "      <td>Café</td>\n",
       "    </tr>\n",
       "    <tr>\n",
       "      <th>4</th>\n",
       "      <td>4</td>\n",
       "      <td>Kuwait City</td>\n",
       "      <td>29.375859</td>\n",
       "      <td>47.977405</td>\n",
       "      <td>CAF cafe</td>\n",
       "      <td>29.376773</td>\n",
       "      <td>47.978062</td>\n",
       "      <td>Café</td>\n",
       "    </tr>\n",
       "  </tbody>\n",
       "</table>\n",
       "</div>"
      ],
      "text/plain": [
       "   Unnamed: 0         Area   Area Lat  Area Long                       Venue  \\\n",
       "0           0  Kuwait City  29.375859  47.977405                    Concrete   \n",
       "1           1  Kuwait City  29.375859  47.977405             Pick Yo (بك يو)   \n",
       "2           2  Kuwait City  29.375859  47.977405                       HABRA   \n",
       "3           3  Kuwait City  29.375859  47.977405  Tobys Estate (توبيس إستيت)   \n",
       "4           4  Kuwait City  29.375859  47.977405                    CAF cafe   \n",
       "\n",
       "   Venue Lat  Venue Long            Category  \n",
       "0  29.375199   47.977508      Breakfast Spot  \n",
       "1  29.375684   47.977405  Frozen Yogurt Shop  \n",
       "2  29.376388   47.977048          Steakhouse  \n",
       "3  29.375201   47.978188                Café  \n",
       "4  29.376773   47.978062                Café  "
      ]
     },
     "execution_count": 56,
     "metadata": {},
     "output_type": "execute_result"
    }
   ],
   "source": [
    "kuwait_venues.head()"
   ]
  },
  {
   "cell_type": "markdown",
   "metadata": {},
   "source": [
    "<h4>5. 1. 2. Clean it up a bit</h4>"
   ]
  },
  {
   "cell_type": "code",
   "execution_count": 57,
   "metadata": {},
   "outputs": [],
   "source": [
    "kuwait_venues.drop(['Unnamed: 0'], axis=1, inplace=True)"
   ]
  },
  {
   "cell_type": "code",
   "execution_count": 58,
   "metadata": {},
   "outputs": [
    {
     "name": "stdout",
     "output_type": "stream",
     "text": [
      "(2524, 7)\n"
     ]
    },
    {
     "data": {
      "text/html": [
       "<div>\n",
       "<style scoped>\n",
       "    .dataframe tbody tr th:only-of-type {\n",
       "        vertical-align: middle;\n",
       "    }\n",
       "\n",
       "    .dataframe tbody tr th {\n",
       "        vertical-align: top;\n",
       "    }\n",
       "\n",
       "    .dataframe thead th {\n",
       "        text-align: right;\n",
       "    }\n",
       "</style>\n",
       "<table border=\"1\" class=\"dataframe\">\n",
       "  <thead>\n",
       "    <tr style=\"text-align: right;\">\n",
       "      <th></th>\n",
       "      <th>Area</th>\n",
       "      <th>Area Lat</th>\n",
       "      <th>Area Long</th>\n",
       "      <th>Venue</th>\n",
       "      <th>Venue Lat</th>\n",
       "      <th>Venue Long</th>\n",
       "      <th>Category</th>\n",
       "    </tr>\n",
       "  </thead>\n",
       "  <tbody>\n",
       "    <tr>\n",
       "      <th>0</th>\n",
       "      <td>Kuwait City</td>\n",
       "      <td>29.375859</td>\n",
       "      <td>47.977405</td>\n",
       "      <td>Concrete</td>\n",
       "      <td>29.375199</td>\n",
       "      <td>47.977508</td>\n",
       "      <td>Breakfast Spot</td>\n",
       "    </tr>\n",
       "    <tr>\n",
       "      <th>1</th>\n",
       "      <td>Kuwait City</td>\n",
       "      <td>29.375859</td>\n",
       "      <td>47.977405</td>\n",
       "      <td>Pick Yo (بك يو)</td>\n",
       "      <td>29.375684</td>\n",
       "      <td>47.977405</td>\n",
       "      <td>Frozen Yogurt Shop</td>\n",
       "    </tr>\n",
       "    <tr>\n",
       "      <th>2</th>\n",
       "      <td>Kuwait City</td>\n",
       "      <td>29.375859</td>\n",
       "      <td>47.977405</td>\n",
       "      <td>HABRA</td>\n",
       "      <td>29.376388</td>\n",
       "      <td>47.977048</td>\n",
       "      <td>Steakhouse</td>\n",
       "    </tr>\n",
       "    <tr>\n",
       "      <th>3</th>\n",
       "      <td>Kuwait City</td>\n",
       "      <td>29.375859</td>\n",
       "      <td>47.977405</td>\n",
       "      <td>Tobys Estate (توبيس إستيت)</td>\n",
       "      <td>29.375201</td>\n",
       "      <td>47.978188</td>\n",
       "      <td>Café</td>\n",
       "    </tr>\n",
       "    <tr>\n",
       "      <th>4</th>\n",
       "      <td>Kuwait City</td>\n",
       "      <td>29.375859</td>\n",
       "      <td>47.977405</td>\n",
       "      <td>CAF cafe</td>\n",
       "      <td>29.376773</td>\n",
       "      <td>47.978062</td>\n",
       "      <td>Café</td>\n",
       "    </tr>\n",
       "  </tbody>\n",
       "</table>\n",
       "</div>"
      ],
      "text/plain": [
       "          Area   Area Lat  Area Long                       Venue  Venue Lat  \\\n",
       "0  Kuwait City  29.375859  47.977405                    Concrete  29.375199   \n",
       "1  Kuwait City  29.375859  47.977405             Pick Yo (بك يو)  29.375684   \n",
       "2  Kuwait City  29.375859  47.977405                       HABRA  29.376388   \n",
       "3  Kuwait City  29.375859  47.977405  Tobys Estate (توبيس إستيت)  29.375201   \n",
       "4  Kuwait City  29.375859  47.977405                    CAF cafe  29.376773   \n",
       "\n",
       "   Venue Long            Category  \n",
       "0   47.977508      Breakfast Spot  \n",
       "1   47.977405  Frozen Yogurt Shop  \n",
       "2   47.977048          Steakhouse  \n",
       "3   47.978188                Café  \n",
       "4   47.978062                Café  "
      ]
     },
     "execution_count": 58,
     "metadata": {},
     "output_type": "execute_result"
    }
   ],
   "source": [
    "print(kuwait_venues.shape)\n",
    "kuwait_venues.head()"
   ]
  },
  {
   "cell_type": "markdown",
   "metadata": {},
   "source": [
    "<h4>5. 1. 3. How many venues were returned for each neighborhood</h4>"
   ]
  },
  {
   "cell_type": "code",
   "execution_count": 59,
   "metadata": {
    "scrolled": true
   },
   "outputs": [
    {
     "data": {
      "text/html": [
       "<div>\n",
       "<style scoped>\n",
       "    .dataframe tbody tr th:only-of-type {\n",
       "        vertical-align: middle;\n",
       "    }\n",
       "\n",
       "    .dataframe tbody tr th {\n",
       "        vertical-align: top;\n",
       "    }\n",
       "\n",
       "    .dataframe thead th {\n",
       "        text-align: right;\n",
       "    }\n",
       "</style>\n",
       "<table border=\"1\" class=\"dataframe\">\n",
       "  <thead>\n",
       "    <tr style=\"text-align: right;\">\n",
       "      <th></th>\n",
       "      <th>Area Lat</th>\n",
       "      <th>Area Long</th>\n",
       "      <th>Venue</th>\n",
       "      <th>Venue Lat</th>\n",
       "      <th>Venue Long</th>\n",
       "      <th>Category</th>\n",
       "    </tr>\n",
       "    <tr>\n",
       "      <th>Area</th>\n",
       "      <th></th>\n",
       "      <th></th>\n",
       "      <th></th>\n",
       "      <th></th>\n",
       "      <th></th>\n",
       "      <th></th>\n",
       "    </tr>\n",
       "  </thead>\n",
       "  <tbody>\n",
       "    <tr>\n",
       "      <th>Abdullah Port</th>\n",
       "      <td>1</td>\n",
       "      <td>1</td>\n",
       "      <td>1</td>\n",
       "      <td>1</td>\n",
       "      <td>1</td>\n",
       "      <td>1</td>\n",
       "    </tr>\n",
       "    <tr>\n",
       "      <th>Abdullah as-Salim</th>\n",
       "      <td>36</td>\n",
       "      <td>36</td>\n",
       "      <td>36</td>\n",
       "      <td>36</td>\n",
       "      <td>36</td>\n",
       "      <td>36</td>\n",
       "    </tr>\n",
       "    <tr>\n",
       "      <th>Abu 'Fteira</th>\n",
       "      <td>9</td>\n",
       "      <td>9</td>\n",
       "      <td>9</td>\n",
       "      <td>9</td>\n",
       "      <td>9</td>\n",
       "      <td>9</td>\n",
       "    </tr>\n",
       "    <tr>\n",
       "      <th>Abu Hassaniya</th>\n",
       "      <td>21</td>\n",
       "      <td>21</td>\n",
       "      <td>21</td>\n",
       "      <td>21</td>\n",
       "      <td>21</td>\n",
       "      <td>21</td>\n",
       "    </tr>\n",
       "    <tr>\n",
       "      <th>Abu Hulaifa</th>\n",
       "      <td>17</td>\n",
       "      <td>17</td>\n",
       "      <td>17</td>\n",
       "      <td>17</td>\n",
       "      <td>17</td>\n",
       "      <td>17</td>\n",
       "    </tr>\n",
       "    <tr>\n",
       "      <th>Adiliya</th>\n",
       "      <td>35</td>\n",
       "      <td>35</td>\n",
       "      <td>35</td>\n",
       "      <td>35</td>\n",
       "      <td>35</td>\n",
       "      <td>35</td>\n",
       "    </tr>\n",
       "    <tr>\n",
       "      <th>Adān</th>\n",
       "      <td>11</td>\n",
       "      <td>11</td>\n",
       "      <td>11</td>\n",
       "      <td>11</td>\n",
       "      <td>11</td>\n",
       "      <td>11</td>\n",
       "    </tr>\n",
       "    <tr>\n",
       "      <th>Agricultural Wafra</th>\n",
       "      <td>5</td>\n",
       "      <td>5</td>\n",
       "      <td>5</td>\n",
       "      <td>5</td>\n",
       "      <td>5</td>\n",
       "      <td>5</td>\n",
       "    </tr>\n",
       "    <tr>\n",
       "      <th>Ahmadi</th>\n",
       "      <td>13</td>\n",
       "      <td>13</td>\n",
       "      <td>13</td>\n",
       "      <td>13</td>\n",
       "      <td>13</td>\n",
       "      <td>13</td>\n",
       "    </tr>\n",
       "    <tr>\n",
       "      <th>Bayān</th>\n",
       "      <td>21</td>\n",
       "      <td>21</td>\n",
       "      <td>21</td>\n",
       "      <td>21</td>\n",
       "      <td>21</td>\n",
       "      <td>21</td>\n",
       "    </tr>\n",
       "    <tr>\n",
       "      <th>Bidaa</th>\n",
       "      <td>73</td>\n",
       "      <td>73</td>\n",
       "      <td>73</td>\n",
       "      <td>73</td>\n",
       "      <td>73</td>\n",
       "      <td>73</td>\n",
       "    </tr>\n",
       "    <tr>\n",
       "      <th>Bneid il-Gār</th>\n",
       "      <td>55</td>\n",
       "      <td>55</td>\n",
       "      <td>55</td>\n",
       "      <td>55</td>\n",
       "      <td>55</td>\n",
       "      <td>55</td>\n",
       "    </tr>\n",
       "    <tr>\n",
       "      <th>Bneidar</th>\n",
       "      <td>2</td>\n",
       "      <td>2</td>\n",
       "      <td>2</td>\n",
       "      <td>2</td>\n",
       "      <td>2</td>\n",
       "      <td>2</td>\n",
       "    </tr>\n",
       "    <tr>\n",
       "      <th>Da'iya</th>\n",
       "      <td>32</td>\n",
       "      <td>32</td>\n",
       "      <td>32</td>\n",
       "      <td>32</td>\n",
       "      <td>32</td>\n",
       "      <td>32</td>\n",
       "    </tr>\n",
       "    <tr>\n",
       "      <th>Dahar</th>\n",
       "      <td>16</td>\n",
       "      <td>16</td>\n",
       "      <td>16</td>\n",
       "      <td>16</td>\n",
       "      <td>16</td>\n",
       "      <td>16</td>\n",
       "    </tr>\n",
       "    <tr>\n",
       "      <th>Dasma</th>\n",
       "      <td>26</td>\n",
       "      <td>26</td>\n",
       "      <td>26</td>\n",
       "      <td>26</td>\n",
       "      <td>26</td>\n",
       "      <td>26</td>\n",
       "    </tr>\n",
       "    <tr>\n",
       "      <th>Dasmān</th>\n",
       "      <td>42</td>\n",
       "      <td>42</td>\n",
       "      <td>42</td>\n",
       "      <td>42</td>\n",
       "      <td>42</td>\n",
       "      <td>42</td>\n",
       "    </tr>\n",
       "    <tr>\n",
       "      <th>Doha</th>\n",
       "      <td>28</td>\n",
       "      <td>28</td>\n",
       "      <td>28</td>\n",
       "      <td>28</td>\n",
       "      <td>28</td>\n",
       "      <td>28</td>\n",
       "    </tr>\n",
       "    <tr>\n",
       "      <th>Egaila</th>\n",
       "      <td>51</td>\n",
       "      <td>51</td>\n",
       "      <td>51</td>\n",
       "      <td>51</td>\n",
       "      <td>51</td>\n",
       "      <td>51</td>\n",
       "    </tr>\n",
       "    <tr>\n",
       "      <th>Fahaheel</th>\n",
       "      <td>53</td>\n",
       "      <td>53</td>\n",
       "      <td>53</td>\n",
       "      <td>53</td>\n",
       "      <td>53</td>\n",
       "      <td>53</td>\n",
       "    </tr>\n",
       "    <tr>\n",
       "      <th>Fahd al-Ahmad Suburb</th>\n",
       "      <td>15</td>\n",
       "      <td>15</td>\n",
       "      <td>15</td>\n",
       "      <td>15</td>\n",
       "      <td>15</td>\n",
       "      <td>15</td>\n",
       "    </tr>\n",
       "    <tr>\n",
       "      <th>Faiha'</th>\n",
       "      <td>27</td>\n",
       "      <td>27</td>\n",
       "      <td>27</td>\n",
       "      <td>27</td>\n",
       "      <td>27</td>\n",
       "      <td>27</td>\n",
       "    </tr>\n",
       "    <tr>\n",
       "      <th>Fintās</th>\n",
       "      <td>31</td>\n",
       "      <td>31</td>\n",
       "      <td>31</td>\n",
       "      <td>31</td>\n",
       "      <td>31</td>\n",
       "      <td>31</td>\n",
       "    </tr>\n",
       "    <tr>\n",
       "      <th>Funaitīs</th>\n",
       "      <td>1</td>\n",
       "      <td>1</td>\n",
       "      <td>1</td>\n",
       "      <td>1</td>\n",
       "      <td>1</td>\n",
       "      <td>1</td>\n",
       "    </tr>\n",
       "    <tr>\n",
       "      <th>Granada</th>\n",
       "      <td>21</td>\n",
       "      <td>21</td>\n",
       "      <td>21</td>\n",
       "      <td>21</td>\n",
       "      <td>21</td>\n",
       "      <td>21</td>\n",
       "    </tr>\n",
       "    <tr>\n",
       "      <th>Hadiya</th>\n",
       "      <td>12</td>\n",
       "      <td>12</td>\n",
       "      <td>12</td>\n",
       "      <td>12</td>\n",
       "      <td>12</td>\n",
       "      <td>12</td>\n",
       "    </tr>\n",
       "    <tr>\n",
       "      <th>Hawally</th>\n",
       "      <td>41</td>\n",
       "      <td>41</td>\n",
       "      <td>41</td>\n",
       "      <td>41</td>\n",
       "      <td>41</td>\n",
       "      <td>41</td>\n",
       "    </tr>\n",
       "    <tr>\n",
       "      <th>Hittin</th>\n",
       "      <td>30</td>\n",
       "      <td>30</td>\n",
       "      <td>30</td>\n",
       "      <td>30</td>\n",
       "      <td>30</td>\n",
       "      <td>30</td>\n",
       "    </tr>\n",
       "    <tr>\n",
       "      <th>Jabir al-Ahmad City</th>\n",
       "      <td>4</td>\n",
       "      <td>4</td>\n",
       "      <td>4</td>\n",
       "      <td>4</td>\n",
       "      <td>4</td>\n",
       "      <td>4</td>\n",
       "    </tr>\n",
       "    <tr>\n",
       "      <th>Jabir al-Ali Suburb</th>\n",
       "      <td>14</td>\n",
       "      <td>14</td>\n",
       "      <td>14</td>\n",
       "      <td>14</td>\n",
       "      <td>14</td>\n",
       "      <td>14</td>\n",
       "    </tr>\n",
       "    <tr>\n",
       "      <th>...</th>\n",
       "      <td>...</td>\n",
       "      <td>...</td>\n",
       "      <td>...</td>\n",
       "      <td>...</td>\n",
       "      <td>...</td>\n",
       "      <td>...</td>\n",
       "    </tr>\n",
       "    <tr>\n",
       "      <th>Nuzha</th>\n",
       "      <td>30</td>\n",
       "      <td>30</td>\n",
       "      <td>30</td>\n",
       "      <td>30</td>\n",
       "      <td>30</td>\n",
       "      <td>30</td>\n",
       "    </tr>\n",
       "    <tr>\n",
       "      <th>Qadsiya</th>\n",
       "      <td>27</td>\n",
       "      <td>27</td>\n",
       "      <td>27</td>\n",
       "      <td>27</td>\n",
       "      <td>27</td>\n",
       "      <td>27</td>\n",
       "    </tr>\n",
       "    <tr>\n",
       "      <th>Qairawān</th>\n",
       "      <td>19</td>\n",
       "      <td>19</td>\n",
       "      <td>19</td>\n",
       "      <td>19</td>\n",
       "      <td>19</td>\n",
       "      <td>19</td>\n",
       "    </tr>\n",
       "    <tr>\n",
       "      <th>Qurain</th>\n",
       "      <td>23</td>\n",
       "      <td>23</td>\n",
       "      <td>23</td>\n",
       "      <td>23</td>\n",
       "      <td>23</td>\n",
       "      <td>23</td>\n",
       "    </tr>\n",
       "    <tr>\n",
       "      <th>Qurtuba</th>\n",
       "      <td>30</td>\n",
       "      <td>30</td>\n",
       "      <td>30</td>\n",
       "      <td>30</td>\n",
       "      <td>30</td>\n",
       "      <td>30</td>\n",
       "    </tr>\n",
       "    <tr>\n",
       "      <th>Qusūr</th>\n",
       "      <td>16</td>\n",
       "      <td>16</td>\n",
       "      <td>16</td>\n",
       "      <td>16</td>\n",
       "      <td>16</td>\n",
       "      <td>16</td>\n",
       "    </tr>\n",
       "    <tr>\n",
       "      <th>Rai</th>\n",
       "      <td>83</td>\n",
       "      <td>83</td>\n",
       "      <td>83</td>\n",
       "      <td>83</td>\n",
       "      <td>83</td>\n",
       "      <td>83</td>\n",
       "    </tr>\n",
       "    <tr>\n",
       "      <th>Rawda</th>\n",
       "      <td>34</td>\n",
       "      <td>34</td>\n",
       "      <td>34</td>\n",
       "      <td>34</td>\n",
       "      <td>34</td>\n",
       "      <td>34</td>\n",
       "    </tr>\n",
       "    <tr>\n",
       "      <th>Rigga</th>\n",
       "      <td>13</td>\n",
       "      <td>13</td>\n",
       "      <td>13</td>\n",
       "      <td>13</td>\n",
       "      <td>13</td>\n",
       "      <td>13</td>\n",
       "    </tr>\n",
       "    <tr>\n",
       "      <th>Rumaithiya</th>\n",
       "      <td>23</td>\n",
       "      <td>23</td>\n",
       "      <td>23</td>\n",
       "      <td>23</td>\n",
       "      <td>23</td>\n",
       "      <td>23</td>\n",
       "    </tr>\n",
       "    <tr>\n",
       "      <th>Sabah al-Ahmad City</th>\n",
       "      <td>18</td>\n",
       "      <td>18</td>\n",
       "      <td>18</td>\n",
       "      <td>18</td>\n",
       "      <td>18</td>\n",
       "      <td>18</td>\n",
       "    </tr>\n",
       "    <tr>\n",
       "      <th>Sabah al-Ahmad Nautical City</th>\n",
       "      <td>18</td>\n",
       "      <td>18</td>\n",
       "      <td>18</td>\n",
       "      <td>18</td>\n",
       "      <td>18</td>\n",
       "      <td>18</td>\n",
       "    </tr>\n",
       "    <tr>\n",
       "      <th>Sabah as-Salim</th>\n",
       "      <td>20</td>\n",
       "      <td>20</td>\n",
       "      <td>20</td>\n",
       "      <td>20</td>\n",
       "      <td>20</td>\n",
       "      <td>20</td>\n",
       "    </tr>\n",
       "    <tr>\n",
       "      <th>Sabahiya</th>\n",
       "      <td>6</td>\n",
       "      <td>6</td>\n",
       "      <td>6</td>\n",
       "      <td>6</td>\n",
       "      <td>6</td>\n",
       "      <td>6</td>\n",
       "    </tr>\n",
       "    <tr>\n",
       "      <th>Sabhān</th>\n",
       "      <td>1</td>\n",
       "      <td>1</td>\n",
       "      <td>1</td>\n",
       "      <td>1</td>\n",
       "      <td>1</td>\n",
       "      <td>1</td>\n",
       "    </tr>\n",
       "    <tr>\n",
       "      <th>Salhiya</th>\n",
       "      <td>79</td>\n",
       "      <td>79</td>\n",
       "      <td>79</td>\n",
       "      <td>79</td>\n",
       "      <td>79</td>\n",
       "      <td>79</td>\n",
       "    </tr>\n",
       "    <tr>\n",
       "      <th>Salmiya</th>\n",
       "      <td>93</td>\n",
       "      <td>93</td>\n",
       "      <td>93</td>\n",
       "      <td>93</td>\n",
       "      <td>93</td>\n",
       "      <td>93</td>\n",
       "    </tr>\n",
       "    <tr>\n",
       "      <th>Salwa</th>\n",
       "      <td>37</td>\n",
       "      <td>37</td>\n",
       "      <td>37</td>\n",
       "      <td>37</td>\n",
       "      <td>37</td>\n",
       "      <td>37</td>\n",
       "    </tr>\n",
       "    <tr>\n",
       "      <th>Sawābir</th>\n",
       "      <td>83</td>\n",
       "      <td>83</td>\n",
       "      <td>83</td>\n",
       "      <td>83</td>\n",
       "      <td>83</td>\n",
       "      <td>83</td>\n",
       "    </tr>\n",
       "    <tr>\n",
       "      <th>Sha'ab</th>\n",
       "      <td>58</td>\n",
       "      <td>58</td>\n",
       "      <td>58</td>\n",
       "      <td>58</td>\n",
       "      <td>58</td>\n",
       "      <td>58</td>\n",
       "    </tr>\n",
       "    <tr>\n",
       "      <th>Shamiya</th>\n",
       "      <td>31</td>\n",
       "      <td>31</td>\n",
       "      <td>31</td>\n",
       "      <td>31</td>\n",
       "      <td>31</td>\n",
       "      <td>31</td>\n",
       "    </tr>\n",
       "    <tr>\n",
       "      <th>Sharq</th>\n",
       "      <td>100</td>\n",
       "      <td>100</td>\n",
       "      <td>100</td>\n",
       "      <td>100</td>\n",
       "      <td>100</td>\n",
       "      <td>100</td>\n",
       "    </tr>\n",
       "    <tr>\n",
       "      <th>Shu'aiba</th>\n",
       "      <td>1</td>\n",
       "      <td>1</td>\n",
       "      <td>1</td>\n",
       "      <td>1</td>\n",
       "      <td>1</td>\n",
       "      <td>1</td>\n",
       "    </tr>\n",
       "    <tr>\n",
       "      <th>Shuwaikh</th>\n",
       "      <td>13</td>\n",
       "      <td>13</td>\n",
       "      <td>13</td>\n",
       "      <td>13</td>\n",
       "      <td>13</td>\n",
       "      <td>13</td>\n",
       "    </tr>\n",
       "    <tr>\n",
       "      <th>South Surra</th>\n",
       "      <td>13</td>\n",
       "      <td>13</td>\n",
       "      <td>13</td>\n",
       "      <td>13</td>\n",
       "      <td>13</td>\n",
       "      <td>13</td>\n",
       "    </tr>\n",
       "    <tr>\n",
       "      <th>Sulaibikhat</th>\n",
       "      <td>21</td>\n",
       "      <td>21</td>\n",
       "      <td>21</td>\n",
       "      <td>21</td>\n",
       "      <td>21</td>\n",
       "      <td>21</td>\n",
       "    </tr>\n",
       "    <tr>\n",
       "      <th>Surra</th>\n",
       "      <td>25</td>\n",
       "      <td>25</td>\n",
       "      <td>25</td>\n",
       "      <td>25</td>\n",
       "      <td>25</td>\n",
       "      <td>25</td>\n",
       "    </tr>\n",
       "    <tr>\n",
       "      <th>Wafra</th>\n",
       "      <td>6</td>\n",
       "      <td>6</td>\n",
       "      <td>6</td>\n",
       "      <td>6</td>\n",
       "      <td>6</td>\n",
       "      <td>6</td>\n",
       "    </tr>\n",
       "    <tr>\n",
       "      <th>Yarmūk</th>\n",
       "      <td>28</td>\n",
       "      <td>28</td>\n",
       "      <td>28</td>\n",
       "      <td>28</td>\n",
       "      <td>28</td>\n",
       "      <td>28</td>\n",
       "    </tr>\n",
       "    <tr>\n",
       "      <th>Zoor</th>\n",
       "      <td>2</td>\n",
       "      <td>2</td>\n",
       "      <td>2</td>\n",
       "      <td>2</td>\n",
       "      <td>2</td>\n",
       "      <td>2</td>\n",
       "    </tr>\n",
       "  </tbody>\n",
       "</table>\n",
       "<p>81 rows × 6 columns</p>\n",
       "</div>"
      ],
      "text/plain": [
       "                              Area Lat  Area Long  Venue  Venue Lat  \\\n",
       "Area                                                                  \n",
       "Abdullah Port                        1          1      1          1   \n",
       "Abdullah as-Salim                   36         36     36         36   \n",
       "Abu 'Fteira                          9          9      9          9   \n",
       "Abu Hassaniya                       21         21     21         21   \n",
       "Abu Hulaifa                         17         17     17         17   \n",
       "Adiliya                             35         35     35         35   \n",
       "Adān                                11         11     11         11   \n",
       "Agricultural Wafra                   5          5      5          5   \n",
       "Ahmadi                              13         13     13         13   \n",
       "Bayān                               21         21     21         21   \n",
       "Bidaa                               73         73     73         73   \n",
       "Bneid il-Gār                        55         55     55         55   \n",
       "Bneidar                              2          2      2          2   \n",
       "Da'iya                              32         32     32         32   \n",
       "Dahar                               16         16     16         16   \n",
       "Dasma                               26         26     26         26   \n",
       "Dasmān                              42         42     42         42   \n",
       "Doha                                28         28     28         28   \n",
       "Egaila                              51         51     51         51   \n",
       "Fahaheel                            53         53     53         53   \n",
       "Fahd al-Ahmad Suburb                15         15     15         15   \n",
       "Faiha'                              27         27     27         27   \n",
       "Fintās                              31         31     31         31   \n",
       "Funaitīs                             1          1      1          1   \n",
       "Granada                             21         21     21         21   \n",
       "Hadiya                              12         12     12         12   \n",
       "Hawally                             41         41     41         41   \n",
       "Hittin                              30         30     30         30   \n",
       "Jabir al-Ahmad City                  4          4      4          4   \n",
       "Jabir al-Ali Suburb                 14         14     14         14   \n",
       "...                                ...        ...    ...        ...   \n",
       "Nuzha                               30         30     30         30   \n",
       "Qadsiya                             27         27     27         27   \n",
       "Qairawān                            19         19     19         19   \n",
       "Qurain                              23         23     23         23   \n",
       "Qurtuba                             30         30     30         30   \n",
       "Qusūr                               16         16     16         16   \n",
       "Rai                                 83         83     83         83   \n",
       "Rawda                               34         34     34         34   \n",
       "Rigga                               13         13     13         13   \n",
       "Rumaithiya                          23         23     23         23   \n",
       "Sabah al-Ahmad City                 18         18     18         18   \n",
       "Sabah al-Ahmad Nautical City        18         18     18         18   \n",
       "Sabah as-Salim                      20         20     20         20   \n",
       "Sabahiya                             6          6      6          6   \n",
       "Sabhān                               1          1      1          1   \n",
       "Salhiya                             79         79     79         79   \n",
       "Salmiya                             93         93     93         93   \n",
       "Salwa                               37         37     37         37   \n",
       "Sawābir                             83         83     83         83   \n",
       "Sha'ab                              58         58     58         58   \n",
       "Shamiya                             31         31     31         31   \n",
       "Sharq                              100        100    100        100   \n",
       "Shu'aiba                             1          1      1          1   \n",
       "Shuwaikh                            13         13     13         13   \n",
       "South Surra                         13         13     13         13   \n",
       "Sulaibikhat                         21         21     21         21   \n",
       "Surra                               25         25     25         25   \n",
       "Wafra                                6          6      6          6   \n",
       "Yarmūk                              28         28     28         28   \n",
       "Zoor                                 2          2      2          2   \n",
       "\n",
       "                              Venue Long  Category  \n",
       "Area                                                \n",
       "Abdullah Port                          1         1  \n",
       "Abdullah as-Salim                     36        36  \n",
       "Abu 'Fteira                            9         9  \n",
       "Abu Hassaniya                         21        21  \n",
       "Abu Hulaifa                           17        17  \n",
       "Adiliya                               35        35  \n",
       "Adān                                  11        11  \n",
       "Agricultural Wafra                     5         5  \n",
       "Ahmadi                                13        13  \n",
       "Bayān                                 21        21  \n",
       "Bidaa                                 73        73  \n",
       "Bneid il-Gār                          55        55  \n",
       "Bneidar                                2         2  \n",
       "Da'iya                                32        32  \n",
       "Dahar                                 16        16  \n",
       "Dasma                                 26        26  \n",
       "Dasmān                                42        42  \n",
       "Doha                                  28        28  \n",
       "Egaila                                51        51  \n",
       "Fahaheel                              53        53  \n",
       "Fahd al-Ahmad Suburb                  15        15  \n",
       "Faiha'                                27        27  \n",
       "Fintās                                31        31  \n",
       "Funaitīs                               1         1  \n",
       "Granada                               21        21  \n",
       "Hadiya                                12        12  \n",
       "Hawally                               41        41  \n",
       "Hittin                                30        30  \n",
       "Jabir al-Ahmad City                    4         4  \n",
       "Jabir al-Ali Suburb                   14        14  \n",
       "...                                  ...       ...  \n",
       "Nuzha                                 30        30  \n",
       "Qadsiya                               27        27  \n",
       "Qairawān                              19        19  \n",
       "Qurain                                23        23  \n",
       "Qurtuba                               30        30  \n",
       "Qusūr                                 16        16  \n",
       "Rai                                   83        83  \n",
       "Rawda                                 34        34  \n",
       "Rigga                                 13        13  \n",
       "Rumaithiya                            23        23  \n",
       "Sabah al-Ahmad City                   18        18  \n",
       "Sabah al-Ahmad Nautical City          18        18  \n",
       "Sabah as-Salim                        20        20  \n",
       "Sabahiya                               6         6  \n",
       "Sabhān                                 1         1  \n",
       "Salhiya                               79        79  \n",
       "Salmiya                               93        93  \n",
       "Salwa                                 37        37  \n",
       "Sawābir                               83        83  \n",
       "Sha'ab                                58        58  \n",
       "Shamiya                               31        31  \n",
       "Sharq                                100       100  \n",
       "Shu'aiba                               1         1  \n",
       "Shuwaikh                              13        13  \n",
       "South Surra                           13        13  \n",
       "Sulaibikhat                           21        21  \n",
       "Surra                                 25        25  \n",
       "Wafra                                  6         6  \n",
       "Yarmūk                                28        28  \n",
       "Zoor                                   2         2  \n",
       "\n",
       "[81 rows x 6 columns]"
      ]
     },
     "execution_count": 59,
     "metadata": {},
     "output_type": "execute_result"
    }
   ],
   "source": [
    "kuwait_venues.groupby('Area').count()"
   ]
  },
  {
   "cell_type": "markdown",
   "metadata": {},
   "source": [
    "<h4>5. 1. 4. ...And how many unique categories</h4>"
   ]
  },
  {
   "cell_type": "code",
   "execution_count": 60,
   "metadata": {},
   "outputs": [
    {
     "name": "stdout",
     "output_type": "stream",
     "text": [
      "There are 278 uniques categories.\n"
     ]
    }
   ],
   "source": [
    "print('There are {} uniques categories.'.format(len(kuwait_venues['Category'].unique())))"
   ]
  },
  {
   "cell_type": "markdown",
   "metadata": {},
   "source": [
    "<h3>5. 2. Analyze Each Neighborhood</h3>"
   ]
  },
  {
   "cell_type": "markdown",
   "metadata": {},
   "source": [
    "<h4>5. 2. 1. Prep data for EDA</h4>"
   ]
  },
  {
   "cell_type": "code",
   "execution_count": 61,
   "metadata": {},
   "outputs": [],
   "source": [
    "# one hot encoding\n",
    "kuwait_onehot = pd.get_dummies(kuwait_venues[['Category']], prefix=\"\", prefix_sep=\"\")\n",
    "\n",
    "# add neighborhood column back to dataframe\n",
    "kuwait_onehot['Area'] = kuwait_venues['Area'] \n",
    "\n",
    "# move neighborhood column to the first column\n",
    "fixed_columns = [kuwait_onehot.columns[-1]] + list(kuwait_onehot.columns[:-1])\n",
    "kuwait_onehot = kuwait_onehot[fixed_columns]"
   ]
  },
  {
   "cell_type": "code",
   "execution_count": 62,
   "metadata": {
    "scrolled": true
   },
   "outputs": [
    {
     "data": {
      "text/plain": [
       "(2524, 279)"
      ]
     },
     "execution_count": 62,
     "metadata": {},
     "output_type": "execute_result"
    }
   ],
   "source": [
    "kuwait_onehot.shape"
   ]
  },
  {
   "cell_type": "markdown",
   "metadata": {},
   "source": [
    "<h4>5. 2. 2. Next, let's group rows by neighborhood and by taking the mean of the frequency of occurrence of each category</h4>"
   ]
  },
  {
   "cell_type": "code",
   "execution_count": 63,
   "metadata": {},
   "outputs": [],
   "source": [
    "kuwait_grouped = kuwait_onehot.groupby('Area').mean().reset_index()"
   ]
  },
  {
   "cell_type": "code",
   "execution_count": 64,
   "metadata": {},
   "outputs": [
    {
     "data": {
      "text/plain": [
       "(81, 279)"
      ]
     },
     "execution_count": 64,
     "metadata": {},
     "output_type": "execute_result"
    }
   ],
   "source": [
    "kuwait_grouped.shape"
   ]
  },
  {
   "cell_type": "code",
   "execution_count": 65,
   "metadata": {},
   "outputs": [
    {
     "data": {
      "text/html": [
       "<div>\n",
       "<style scoped>\n",
       "    .dataframe tbody tr th:only-of-type {\n",
       "        vertical-align: middle;\n",
       "    }\n",
       "\n",
       "    .dataframe tbody tr th {\n",
       "        vertical-align: top;\n",
       "    }\n",
       "\n",
       "    .dataframe thead th {\n",
       "        text-align: right;\n",
       "    }\n",
       "</style>\n",
       "<table border=\"1\" class=\"dataframe\">\n",
       "  <thead>\n",
       "    <tr style=\"text-align: right;\">\n",
       "      <th></th>\n",
       "      <th>Area</th>\n",
       "      <th>ATM</th>\n",
       "      <th>Accessories Store</th>\n",
       "      <th>Afghan Restaurant</th>\n",
       "      <th>Airport</th>\n",
       "      <th>Airport Service</th>\n",
       "      <th>Airport Terminal</th>\n",
       "      <th>American Restaurant</th>\n",
       "      <th>Amphitheater</th>\n",
       "      <th>Antique Shop</th>\n",
       "      <th>...</th>\n",
       "      <th>Vacation Rental</th>\n",
       "      <th>Vegetarian / Vegan Restaurant</th>\n",
       "      <th>Video Game Store</th>\n",
       "      <th>Warehouse Store</th>\n",
       "      <th>Watch Shop</th>\n",
       "      <th>Water Park</th>\n",
       "      <th>Wings Joint</th>\n",
       "      <th>Yoga Studio</th>\n",
       "      <th>Zoo</th>\n",
       "      <th>Zoo Exhibit</th>\n",
       "    </tr>\n",
       "  </thead>\n",
       "  <tbody>\n",
       "    <tr>\n",
       "      <th>0</th>\n",
       "      <td>Abdullah Port</td>\n",
       "      <td>0.0</td>\n",
       "      <td>0.0</td>\n",
       "      <td>0.0</td>\n",
       "      <td>0.0</td>\n",
       "      <td>0.0</td>\n",
       "      <td>0.0</td>\n",
       "      <td>0.000000</td>\n",
       "      <td>0.0</td>\n",
       "      <td>0.0</td>\n",
       "      <td>...</td>\n",
       "      <td>0.0</td>\n",
       "      <td>0.0</td>\n",
       "      <td>0.0</td>\n",
       "      <td>0.0</td>\n",
       "      <td>0.0</td>\n",
       "      <td>0.0</td>\n",
       "      <td>0.0</td>\n",
       "      <td>0.0</td>\n",
       "      <td>0.000000</td>\n",
       "      <td>0.0</td>\n",
       "    </tr>\n",
       "    <tr>\n",
       "      <th>1</th>\n",
       "      <td>Abdullah as-Salim</td>\n",
       "      <td>0.0</td>\n",
       "      <td>0.0</td>\n",
       "      <td>0.0</td>\n",
       "      <td>0.0</td>\n",
       "      <td>0.0</td>\n",
       "      <td>0.0</td>\n",
       "      <td>0.111111</td>\n",
       "      <td>0.0</td>\n",
       "      <td>0.0</td>\n",
       "      <td>...</td>\n",
       "      <td>0.0</td>\n",
       "      <td>0.0</td>\n",
       "      <td>0.0</td>\n",
       "      <td>0.0</td>\n",
       "      <td>0.0</td>\n",
       "      <td>0.0</td>\n",
       "      <td>0.0</td>\n",
       "      <td>0.0</td>\n",
       "      <td>0.027778</td>\n",
       "      <td>0.0</td>\n",
       "    </tr>\n",
       "    <tr>\n",
       "      <th>2</th>\n",
       "      <td>Abu 'Fteira</td>\n",
       "      <td>0.0</td>\n",
       "      <td>0.0</td>\n",
       "      <td>0.0</td>\n",
       "      <td>0.0</td>\n",
       "      <td>0.0</td>\n",
       "      <td>0.0</td>\n",
       "      <td>0.000000</td>\n",
       "      <td>0.0</td>\n",
       "      <td>0.0</td>\n",
       "      <td>...</td>\n",
       "      <td>0.0</td>\n",
       "      <td>0.0</td>\n",
       "      <td>0.0</td>\n",
       "      <td>0.0</td>\n",
       "      <td>0.0</td>\n",
       "      <td>0.0</td>\n",
       "      <td>0.0</td>\n",
       "      <td>0.0</td>\n",
       "      <td>0.000000</td>\n",
       "      <td>0.0</td>\n",
       "    </tr>\n",
       "    <tr>\n",
       "      <th>3</th>\n",
       "      <td>Abu Hassaniya</td>\n",
       "      <td>0.0</td>\n",
       "      <td>0.0</td>\n",
       "      <td>0.0</td>\n",
       "      <td>0.0</td>\n",
       "      <td>0.0</td>\n",
       "      <td>0.0</td>\n",
       "      <td>0.000000</td>\n",
       "      <td>0.0</td>\n",
       "      <td>0.0</td>\n",
       "      <td>...</td>\n",
       "      <td>0.0</td>\n",
       "      <td>0.0</td>\n",
       "      <td>0.0</td>\n",
       "      <td>0.0</td>\n",
       "      <td>0.0</td>\n",
       "      <td>0.0</td>\n",
       "      <td>0.0</td>\n",
       "      <td>0.0</td>\n",
       "      <td>0.000000</td>\n",
       "      <td>0.0</td>\n",
       "    </tr>\n",
       "    <tr>\n",
       "      <th>4</th>\n",
       "      <td>Abu Hulaifa</td>\n",
       "      <td>0.0</td>\n",
       "      <td>0.0</td>\n",
       "      <td>0.0</td>\n",
       "      <td>0.0</td>\n",
       "      <td>0.0</td>\n",
       "      <td>0.0</td>\n",
       "      <td>0.000000</td>\n",
       "      <td>0.0</td>\n",
       "      <td>0.0</td>\n",
       "      <td>...</td>\n",
       "      <td>0.0</td>\n",
       "      <td>0.0</td>\n",
       "      <td>0.0</td>\n",
       "      <td>0.0</td>\n",
       "      <td>0.0</td>\n",
       "      <td>0.0</td>\n",
       "      <td>0.0</td>\n",
       "      <td>0.0</td>\n",
       "      <td>0.000000</td>\n",
       "      <td>0.0</td>\n",
       "    </tr>\n",
       "  </tbody>\n",
       "</table>\n",
       "<p>5 rows × 279 columns</p>\n",
       "</div>"
      ],
      "text/plain": [
       "                Area  ATM  Accessories Store  Afghan Restaurant  Airport  \\\n",
       "0      Abdullah Port  0.0                0.0                0.0      0.0   \n",
       "1  Abdullah as-Salim  0.0                0.0                0.0      0.0   \n",
       "2        Abu 'Fteira  0.0                0.0                0.0      0.0   \n",
       "3      Abu Hassaniya  0.0                0.0                0.0      0.0   \n",
       "4        Abu Hulaifa  0.0                0.0                0.0      0.0   \n",
       "\n",
       "   Airport Service  Airport Terminal  American Restaurant  Amphitheater  \\\n",
       "0              0.0               0.0             0.000000           0.0   \n",
       "1              0.0               0.0             0.111111           0.0   \n",
       "2              0.0               0.0             0.000000           0.0   \n",
       "3              0.0               0.0             0.000000           0.0   \n",
       "4              0.0               0.0             0.000000           0.0   \n",
       "\n",
       "   Antique Shop  ...  Vacation Rental  Vegetarian / Vegan Restaurant  \\\n",
       "0           0.0  ...              0.0                            0.0   \n",
       "1           0.0  ...              0.0                            0.0   \n",
       "2           0.0  ...              0.0                            0.0   \n",
       "3           0.0  ...              0.0                            0.0   \n",
       "4           0.0  ...              0.0                            0.0   \n",
       "\n",
       "   Video Game Store  Warehouse Store  Watch Shop  Water Park  Wings Joint  \\\n",
       "0               0.0              0.0         0.0         0.0          0.0   \n",
       "1               0.0              0.0         0.0         0.0          0.0   \n",
       "2               0.0              0.0         0.0         0.0          0.0   \n",
       "3               0.0              0.0         0.0         0.0          0.0   \n",
       "4               0.0              0.0         0.0         0.0          0.0   \n",
       "\n",
       "   Yoga Studio       Zoo  Zoo Exhibit  \n",
       "0          0.0  0.000000          0.0  \n",
       "1          0.0  0.027778          0.0  \n",
       "2          0.0  0.000000          0.0  \n",
       "3          0.0  0.000000          0.0  \n",
       "4          0.0  0.000000          0.0  \n",
       "\n",
       "[5 rows x 279 columns]"
      ]
     },
     "execution_count": 65,
     "metadata": {},
     "output_type": "execute_result"
    }
   ],
   "source": [
    "kuwait_grouped.head()"
   ]
  },
  {
   "cell_type": "markdown",
   "metadata": {},
   "source": [
    "<h4>5. 2. 3. Function to sort venues in descending order</h4>"
   ]
  },
  {
   "cell_type": "code",
   "execution_count": 66,
   "metadata": {},
   "outputs": [],
   "source": [
    "def return_most_common_venues(row, num_top_venues):\n",
    "    row_categories = row.iloc[1:]\n",
    "    row_categories_sorted = row_categories.sort_values(ascending=False)\n",
    "    \n",
    "    return row_categories_sorted.index.values[0:num_top_venues]"
   ]
  },
  {
   "cell_type": "markdown",
   "metadata": {},
   "source": [
    "<h3>5. 3. Create dataframe and display top 10 venues per neighborhood</h3>"
   ]
  },
  {
   "cell_type": "code",
   "execution_count": 67,
   "metadata": {},
   "outputs": [
    {
     "data": {
      "text/html": [
       "<div>\n",
       "<style scoped>\n",
       "    .dataframe tbody tr th:only-of-type {\n",
       "        vertical-align: middle;\n",
       "    }\n",
       "\n",
       "    .dataframe tbody tr th {\n",
       "        vertical-align: top;\n",
       "    }\n",
       "\n",
       "    .dataframe thead th {\n",
       "        text-align: right;\n",
       "    }\n",
       "</style>\n",
       "<table border=\"1\" class=\"dataframe\">\n",
       "  <thead>\n",
       "    <tr style=\"text-align: right;\">\n",
       "      <th></th>\n",
       "      <th>Area</th>\n",
       "      <th>1st Most Common Venue</th>\n",
       "      <th>2nd Most Common Venue</th>\n",
       "      <th>3rd Most Common Venue</th>\n",
       "      <th>4th Most Common Venue</th>\n",
       "      <th>5th Most Common Venue</th>\n",
       "      <th>6th Most Common Venue</th>\n",
       "      <th>7th Most Common Venue</th>\n",
       "      <th>8th Most Common Venue</th>\n",
       "      <th>9th Most Common Venue</th>\n",
       "      <th>10th Most Common Venue</th>\n",
       "    </tr>\n",
       "  </thead>\n",
       "  <tbody>\n",
       "    <tr>\n",
       "      <th>0</th>\n",
       "      <td>Abdullah Port</td>\n",
       "      <td>Harbor / Marina</td>\n",
       "      <td>Dog Run</td>\n",
       "      <td>Donut Shop</td>\n",
       "      <td>Dry Cleaner</td>\n",
       "      <td>Egyptian Restaurant</td>\n",
       "      <td>Electronics Store</td>\n",
       "      <td>Event Service</td>\n",
       "      <td>Falafel Restaurant</td>\n",
       "      <td>Farm</td>\n",
       "      <td>Zoo Exhibit</td>\n",
       "    </tr>\n",
       "    <tr>\n",
       "      <th>1</th>\n",
       "      <td>Abdullah as-Salim</td>\n",
       "      <td>American Restaurant</td>\n",
       "      <td>Coffee Shop</td>\n",
       "      <td>Juice Bar</td>\n",
       "      <td>Cafeteria</td>\n",
       "      <td>Pizza Place</td>\n",
       "      <td>Grocery Store</td>\n",
       "      <td>Salon / Barbershop</td>\n",
       "      <td>Camera Store</td>\n",
       "      <td>Café</td>\n",
       "      <td>Dessert Shop</td>\n",
       "    </tr>\n",
       "    <tr>\n",
       "      <th>2</th>\n",
       "      <td>Abu 'Fteira</td>\n",
       "      <td>Plaza</td>\n",
       "      <td>Dessert Shop</td>\n",
       "      <td>Cafeteria</td>\n",
       "      <td>Restaurant</td>\n",
       "      <td>Fried Chicken Joint</td>\n",
       "      <td>Caribbean Restaurant</td>\n",
       "      <td>Supermarket</td>\n",
       "      <td>Middle Eastern Restaurant</td>\n",
       "      <td>Beach</td>\n",
       "      <td>Farmers Market</td>\n",
       "    </tr>\n",
       "    <tr>\n",
       "      <th>3</th>\n",
       "      <td>Abu Hassaniya</td>\n",
       "      <td>Café</td>\n",
       "      <td>Beach</td>\n",
       "      <td>Japanese Curry Restaurant</td>\n",
       "      <td>Middle Eastern Restaurant</td>\n",
       "      <td>Farm</td>\n",
       "      <td>Health Food Store</td>\n",
       "      <td>Hotel</td>\n",
       "      <td>Cupcake Shop</td>\n",
       "      <td>Coffee Shop</td>\n",
       "      <td>Boat or Ferry</td>\n",
       "    </tr>\n",
       "    <tr>\n",
       "      <th>4</th>\n",
       "      <td>Abu Hulaifa</td>\n",
       "      <td>Soccer Stadium</td>\n",
       "      <td>Dessert Shop</td>\n",
       "      <td>Soccer Field</td>\n",
       "      <td>Café</td>\n",
       "      <td>Arts &amp; Crafts Store</td>\n",
       "      <td>Mexican Restaurant</td>\n",
       "      <td>Lounge</td>\n",
       "      <td>Burger Joint</td>\n",
       "      <td>Asian Restaurant</td>\n",
       "      <td>Grocery Store</td>\n",
       "    </tr>\n",
       "  </tbody>\n",
       "</table>\n",
       "</div>"
      ],
      "text/plain": [
       "                Area 1st Most Common Venue 2nd Most Common Venue  \\\n",
       "0      Abdullah Port       Harbor / Marina               Dog Run   \n",
       "1  Abdullah as-Salim   American Restaurant           Coffee Shop   \n",
       "2        Abu 'Fteira                 Plaza          Dessert Shop   \n",
       "3      Abu Hassaniya                  Café                 Beach   \n",
       "4        Abu Hulaifa        Soccer Stadium          Dessert Shop   \n",
       "\n",
       "       3rd Most Common Venue      4th Most Common Venue 5th Most Common Venue  \\\n",
       "0                 Donut Shop                Dry Cleaner   Egyptian Restaurant   \n",
       "1                  Juice Bar                  Cafeteria           Pizza Place   \n",
       "2                  Cafeteria                 Restaurant   Fried Chicken Joint   \n",
       "3  Japanese Curry Restaurant  Middle Eastern Restaurant                  Farm   \n",
       "4               Soccer Field                       Café   Arts & Crafts Store   \n",
       "\n",
       "  6th Most Common Venue 7th Most Common Venue      8th Most Common Venue  \\\n",
       "0     Electronics Store         Event Service         Falafel Restaurant   \n",
       "1         Grocery Store    Salon / Barbershop               Camera Store   \n",
       "2  Caribbean Restaurant           Supermarket  Middle Eastern Restaurant   \n",
       "3     Health Food Store                 Hotel               Cupcake Shop   \n",
       "4    Mexican Restaurant                Lounge               Burger Joint   \n",
       "\n",
       "  9th Most Common Venue 10th Most Common Venue  \n",
       "0                  Farm            Zoo Exhibit  \n",
       "1                  Café           Dessert Shop  \n",
       "2                 Beach         Farmers Market  \n",
       "3           Coffee Shop          Boat or Ferry  \n",
       "4      Asian Restaurant          Grocery Store  "
      ]
     },
     "execution_count": 67,
     "metadata": {},
     "output_type": "execute_result"
    }
   ],
   "source": [
    "num_top_venues = 10\n",
    "indicators = ['st', 'nd', 'rd']\n",
    "\n",
    "# create columns according to number of top venues\n",
    "columns = ['Area']\n",
    "for ind in np.arange(num_top_venues):\n",
    "    try:\n",
    "        columns.append('{}{} Most Common Venue'.format(ind+1, indicators[ind]))\n",
    "    except:\n",
    "        columns.append('{}th Most Common Venue'.format(ind+1))\n",
    "\n",
    "# create a new dataframe\n",
    "neighborhoods_venues_sorted = pd.DataFrame(columns=columns)\n",
    "neighborhoods_venues_sorted['Area'] = kuwait_grouped['Area']\n",
    "\n",
    "for ind in np.arange(kuwait_grouped.shape[0]):\n",
    "    neighborhoods_venues_sorted.iloc[ind, 1:] = return_most_common_venues(kuwait_grouped.iloc[ind, :], num_top_venues)\n",
    "\n",
    "neighborhoods_venues_sorted.head()"
   ]
  },
  {
   "cell_type": "markdown",
   "metadata": {},
   "source": [
    "## 6. Cluster the Neighborhoods\n",
    "<a id=\"6\"></a>"
   ]
  },
  {
   "cell_type": "markdown",
   "metadata": {},
   "source": [
    "<h3>6. 1. Grab a fresh copy of the dataframe</h3>"
   ]
  },
  {
   "cell_type": "code",
   "execution_count": 68,
   "metadata": {},
   "outputs": [],
   "source": [
    "kuwait_grouped_clustering = kuwait_grouped.drop('Area', 1)"
   ]
  },
  {
   "cell_type": "markdown",
   "metadata": {},
   "source": [
    "<h4>6. 1. 1. Find optimum k</h4>"
   ]
  },
  {
   "cell_type": "code",
   "execution_count": 69,
   "metadata": {},
   "outputs": [
    {
     "name": "stdout",
     "output_type": "stream",
     "text": [
      "The best k is [8] with a silhouette score of [0.72053775]\n"
     ]
    },
    {
     "data": {
      "image/png": "[encoded data removed]",
      "text/plain": [
       "<Figure size 432x288 with 1 Axes>"
      ]
     },
     "metadata": {
      "needs_background": "light"
     },
     "output_type": "display_data"
    }
   ],
   "source": [
    "sse = {}\n",
    "list_1 = []\n",
    "list_2 = []\n",
    "sil = pd.DataFrame()\n",
    "\n",
    "for k in range(2, 20):\n",
    "    kmeans = KMeans(n_clusters=k, max_iter=10000, random_state=0).fit(kuwait_grouped_clustering)\n",
    "    kuwait_grouped_clustering[\"Clusters\"] = kmeans.labels_\n",
    "    #print(data[\"clusters\"])\n",
    "    sse[k] = kmeans.inertia_ # Inertia: Sum of distances of samples to their closest cluster center\n",
    "    label = kmeans.labels_\n",
    "    sil_coeff = silhouette_score(kuwait_grouped_clustering, label, metric='euclidean')\n",
    "    list_1.append(k)\n",
    "    list_2.append(sil_coeff)\n",
    "\n",
    "sil['k'] = list_1\n",
    "sil['sil_coeff'] = list_2\n",
    "highest = sil.sort_values(['sil_coeff'], ascending=False).head(1)\n",
    "print('The best k is {} with a silhouette score of {}'.format(highest['k'].values, highest['sil_coeff'].values))\n",
    "plt.figure()\n",
    "plt.plot(list(sse.keys()), list(sse.values()))\n",
    "plt.xlabel(\"Number of cluster\")\n",
    "plt.ylabel(\"SSE\")\n",
    "plt.show()\n"
   ]
  },
  {
   "cell_type": "markdown",
   "metadata": {},
   "source": [
    "<h4>6. 1. 2. Run k-means to cluster the neighborhood into X clusters.</h4>"
   ]
  },
  {
   "cell_type": "code",
   "execution_count": 70,
   "metadata": {},
   "outputs": [],
   "source": [
    "# set number of clusters\n",
    "kclusters = 8\n",
    "\n",
    "# run k-means clustering\n",
    "kmeans = KMeans(n_clusters=kclusters, random_state=0, max_iter=10000).fit(kuwait_grouped_clustering)"
   ]
  },
  {
   "cell_type": "code",
   "execution_count": 71,
   "metadata": {},
   "outputs": [
    {
     "data": {
      "text/plain": [
       "array([5, 0, 3, 5, 0, 0, 6, 7, 3, 2])"
      ]
     },
     "execution_count": 71,
     "metadata": {},
     "output_type": "execute_result"
    }
   ],
   "source": [
    "# check cluster labels generated for each row in the dataframe\n",
    "kmeans.labels_[0:10] "
   ]
  },
  {
   "cell_type": "markdown",
   "metadata": {},
   "source": [
    "<h3>6. 2. New dataframe that includes cluster as well as top 10 venues per neighborhood</h3>"
   ]
  },
  {
   "cell_type": "code",
   "execution_count": 98,
   "metadata": {
    "scrolled": true
   },
   "outputs": [
    {
     "data": {
      "text/html": [
       "<div>\n",
       "<style scoped>\n",
       "    .dataframe tbody tr th:only-of-type {\n",
       "        vertical-align: middle;\n",
       "    }\n",
       "\n",
       "    .dataframe tbody tr th {\n",
       "        vertical-align: top;\n",
       "    }\n",
       "\n",
       "    .dataframe thead th {\n",
       "        text-align: right;\n",
       "    }\n",
       "</style>\n",
       "<table border=\"1\" class=\"dataframe\">\n",
       "  <thead>\n",
       "    <tr style=\"text-align: right;\">\n",
       "      <th></th>\n",
       "      <th>Area</th>\n",
       "      <th>Latitude</th>\n",
       "      <th>Longitude</th>\n",
       "      <th>Cluster Labels</th>\n",
       "      <th>1st Most Common Venue</th>\n",
       "      <th>2nd Most Common Venue</th>\n",
       "      <th>3rd Most Common Venue</th>\n",
       "      <th>4th Most Common Venue</th>\n",
       "      <th>5th Most Common Venue</th>\n",
       "      <th>6th Most Common Venue</th>\n",
       "      <th>7th Most Common Venue</th>\n",
       "      <th>8th Most Common Venue</th>\n",
       "      <th>9th Most Common Venue</th>\n",
       "      <th>10th Most Common Venue</th>\n",
       "    </tr>\n",
       "  </thead>\n",
       "  <tbody>\n",
       "    <tr>\n",
       "      <th>0</th>\n",
       "      <td>Kuwait City</td>\n",
       "      <td>29.375859</td>\n",
       "      <td>47.977405</td>\n",
       "      <td>5.0</td>\n",
       "      <td>Coffee Shop</td>\n",
       "      <td>Café</td>\n",
       "      <td>Middle Eastern Restaurant</td>\n",
       "      <td>Restaurant</td>\n",
       "      <td>Burger Joint</td>\n",
       "      <td>American Restaurant</td>\n",
       "      <td>Bakery</td>\n",
       "      <td>Comfort Food Restaurant</td>\n",
       "      <td>Breakfast Spot</td>\n",
       "      <td>Jewelry Store</td>\n",
       "    </tr>\n",
       "    <tr>\n",
       "      <th>1</th>\n",
       "      <td>Dasmān</td>\n",
       "      <td>29.387804</td>\n",
       "      <td>47.999790</td>\n",
       "      <td>3.0</td>\n",
       "      <td>Beach</td>\n",
       "      <td>Middle Eastern Restaurant</td>\n",
       "      <td>Water Park</td>\n",
       "      <td>Coffee Shop</td>\n",
       "      <td>Restaurant</td>\n",
       "      <td>American Restaurant</td>\n",
       "      <td>Café</td>\n",
       "      <td>Soccer Field</td>\n",
       "      <td>Seafood Restaurant</td>\n",
       "      <td>Scenic Lookout</td>\n",
       "    </tr>\n",
       "    <tr>\n",
       "      <th>2</th>\n",
       "      <td>Sharq</td>\n",
       "      <td>29.382323</td>\n",
       "      <td>47.988644</td>\n",
       "      <td>5.0</td>\n",
       "      <td>Café</td>\n",
       "      <td>Coffee Shop</td>\n",
       "      <td>Restaurant</td>\n",
       "      <td>Hotel</td>\n",
       "      <td>Breakfast Spot</td>\n",
       "      <td>Dessert Shop</td>\n",
       "      <td>Italian Restaurant</td>\n",
       "      <td>Indian Restaurant</td>\n",
       "      <td>Burger Joint</td>\n",
       "      <td>Mediterranean Restaurant</td>\n",
       "    </tr>\n",
       "    <tr>\n",
       "      <th>3</th>\n",
       "      <td>Mirgāb</td>\n",
       "      <td>29.366138</td>\n",
       "      <td>47.983692</td>\n",
       "      <td>5.0</td>\n",
       "      <td>Café</td>\n",
       "      <td>Coffee Shop</td>\n",
       "      <td>Hookah Bar</td>\n",
       "      <td>Burger Joint</td>\n",
       "      <td>Shopping Mall</td>\n",
       "      <td>Lounge</td>\n",
       "      <td>Hotel</td>\n",
       "      <td>Intersection</td>\n",
       "      <td>Park</td>\n",
       "      <td>Breakfast Spot</td>\n",
       "    </tr>\n",
       "    <tr>\n",
       "      <th>4</th>\n",
       "      <td>Jibla</td>\n",
       "      <td>29.369934</td>\n",
       "      <td>47.968836</td>\n",
       "      <td>5.0</td>\n",
       "      <td>Coffee Shop</td>\n",
       "      <td>Café</td>\n",
       "      <td>Middle Eastern Restaurant</td>\n",
       "      <td>Hookah Bar</td>\n",
       "      <td>Boutique</td>\n",
       "      <td>Pizza Place</td>\n",
       "      <td>Japanese Restaurant</td>\n",
       "      <td>Hotel</td>\n",
       "      <td>Thai Restaurant</td>\n",
       "      <td>Asian Restaurant</td>\n",
       "    </tr>\n",
       "  </tbody>\n",
       "</table>\n",
       "</div>"
      ],
      "text/plain": [
       "          Area   Latitude  Longitude  Cluster Labels 1st Most Common Venue  \\\n",
       "0  Kuwait City  29.375859  47.977405             5.0           Coffee Shop   \n",
       "1       Dasmān  29.387804  47.999790             3.0                 Beach   \n",
       "2        Sharq  29.382323  47.988644             5.0                  Café   \n",
       "3       Mirgāb  29.366138  47.983692             5.0                  Café   \n",
       "4        Jibla  29.369934  47.968836             5.0           Coffee Shop   \n",
       "\n",
       "       2nd Most Common Venue      3rd Most Common Venue 4th Most Common Venue  \\\n",
       "0                       Café  Middle Eastern Restaurant            Restaurant   \n",
       "1  Middle Eastern Restaurant                 Water Park           Coffee Shop   \n",
       "2                Coffee Shop                 Restaurant                 Hotel   \n",
       "3                Coffee Shop                 Hookah Bar          Burger Joint   \n",
       "4                       Café  Middle Eastern Restaurant            Hookah Bar   \n",
       "\n",
       "  5th Most Common Venue 6th Most Common Venue 7th Most Common Venue  \\\n",
       "0          Burger Joint   American Restaurant                Bakery   \n",
       "1            Restaurant   American Restaurant                  Café   \n",
       "2        Breakfast Spot          Dessert Shop    Italian Restaurant   \n",
       "3         Shopping Mall                Lounge                 Hotel   \n",
       "4              Boutique           Pizza Place   Japanese Restaurant   \n",
       "\n",
       "     8th Most Common Venue 9th Most Common Venue    10th Most Common Venue  \n",
       "0  Comfort Food Restaurant        Breakfast Spot             Jewelry Store  \n",
       "1             Soccer Field    Seafood Restaurant            Scenic Lookout  \n",
       "2        Indian Restaurant          Burger Joint  Mediterranean Restaurant  \n",
       "3             Intersection                  Park            Breakfast Spot  \n",
       "4                    Hotel       Thai Restaurant          Asian Restaurant  "
      ]
     },
     "execution_count": 98,
     "metadata": {},
     "output_type": "execute_result"
    }
   ],
   "source": [
    "#neighborhoods_venues_sorted.drop(['Cluster Labels'], axis=1, inplace=True)\n",
    "\n",
    "# add clustering labels\n",
    "neighborhoods_venues_sorted.insert(0, 'Cluster Labels', kmeans.labels_)\n",
    "\n",
    "kuwait_merged = df_kw.copy()\n",
    "\n",
    "# merge toronto_grouped with toronto_data to add latitude/longitude for each neighborhood\n",
    "kuwait_merged = kuwait_merged.join(neighborhoods_venues_sorted.set_index('Area'), on='Area')\n",
    "\n",
    "kuwait_merged.head() # check the last columns!"
   ]
  },
  {
   "cell_type": "code",
   "execution_count": 99,
   "metadata": {
    "scrolled": true
   },
   "outputs": [
    {
     "data": {
      "text/plain": [
       "(82, 14)"
      ]
     },
     "execution_count": 99,
     "metadata": {},
     "output_type": "execute_result"
    }
   ],
   "source": [
    "kuwait_merged.shape"
   ]
  },
  {
   "cell_type": "markdown",
   "metadata": {},
   "source": [
    "<h4>6. 2. 1. Checkpoint and save...</h4>"
   ]
  },
  {
   "cell_type": "code",
   "execution_count": 100,
   "metadata": {},
   "outputs": [
    {
     "name": "stdout",
     "output_type": "stream",
     "text": [
      "Saved!\n"
     ]
    }
   ],
   "source": [
    "kuwait_merged.to_csv('kuwait_merged.csv')\n",
    "print('Saved!')"
   ]
  },
  {
   "cell_type": "markdown",
   "metadata": {},
   "source": [
    "<h4>6. 2. 2. ...Import if continuing from here</h4>"
   ]
  },
  {
   "cell_type": "code",
   "execution_count": null,
   "metadata": {},
   "outputs": [],
   "source": [
    "kuwait_merged.read_csv('kuwait_merged.csv')"
   ]
  },
  {
   "cell_type": "markdown",
   "metadata": {},
   "source": [
    "<h3>6. 3. Check for any unassigned labels</h3>"
   ]
  },
  {
   "cell_type": "code",
   "execution_count": 106,
   "metadata": {},
   "outputs": [
    {
     "name": "stdout",
     "output_type": "stream",
     "text": [
      "The areas at the following indexes are out of range: []\n"
     ]
    }
   ],
   "source": [
    "list = []\n",
    "i = 0\n",
    "count = 0\n",
    "while i < len(kuwait_merged):\n",
    "    if kuwait_merged['Cluster Labels'].iloc[i] in range(0,10):\n",
    "        count += 1\n",
    "    else:\n",
    "        list.append(count)\n",
    "        count += 1\n",
    "    i += 1\n",
    "print('The areas at the following indexes are out of range:', list)"
   ]
  },
  {
   "cell_type": "markdown",
   "metadata": {},
   "source": [
    "<h4>6. 3. 1. Clean up any messes found above</h4>"
   ]
  },
  {
   "cell_type": "code",
   "execution_count": 105,
   "metadata": {},
   "outputs": [],
   "source": [
    "for i in list:\n",
    "    kuwait_merged.drop([i], inplace=True)"
   ]
  },
  {
   "cell_type": "markdown",
   "metadata": {},
   "source": [
    "<h4>6. 3. 2. Clean Clusters</h4>"
   ]
  },
  {
   "cell_type": "code",
   "execution_count": 107,
   "metadata": {
    "scrolled": true
   },
   "outputs": [],
   "source": [
    "kuwait_merged['Cluster Labels'] = kuwait_merged['Cluster Labels'].astype(np.int16)"
   ]
  },
  {
   "cell_type": "markdown",
   "metadata": {},
   "source": [
    "## 7. Lets Visualize the Clusters\n",
    "<a id=\"7\"></a>"
   ]
  },
  {
   "cell_type": "markdown",
   "metadata": {},
   "source": [
    "<h3>7. 1. Generate map of clusters</h3>"
   ]
  },
  {
   "cell_type": "code",
   "execution_count": 323,
   "metadata": {
    "scrolled": false
   },
   "outputs": [
    {
     "data": {
      "text/html": [
       "<div style=\"width:100%;\"><div style=\"position:relative;width:100%;height:0;padding-bottom:60%;\"><iframe src=\"data:text/html;charset=utf-8;base64,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\" style=\"position:absolute;width:100%;height:100%;left:0;top:0;border:none !important;\" allowfullscreen webkitallowfullscreen mozallowfullscreen></iframe></div></div>"
      ],
      "text/plain": [
       "<folium.folium.Map at 0x1871a8fdda0>"
      ]
     },
     "execution_count": 323,
     "metadata": {},
     "output_type": "execute_result"
    }
   ],
   "source": [
    "# create map\n",
    "map_clusters = folium.Map(location=[latitude, longitude], zoom_start=9)\n",
    "\n",
    "# set color scheme for the clusters\n",
    "x = np.arange(kclusters)\n",
    "ys = [i + x + (i*x)**2 for i in range(kclusters)]\n",
    "colors_array = cm.rainbow(np.linspace(0, 1, len(ys)))\n",
    "rainbow = [colors.rgb2hex(i) for i in colors_array]\n",
    "\n",
    "# add markers to the map\n",
    "markers_colors = []\n",
    "for lat, lon, poi, cluster in zip(kuwait_merged['Latitude'], kuwait_merged['Longitude'], kuwait_merged['Area'], kuwait_merged['Cluster Labels']):\n",
    "    label = folium.Popup(str(poi) + ' Cluster ' + str(cluster), parse_html=True)\n",
    "    folium.CircleMarker(\n",
    "        [lat, lon],\n",
    "        radius=5,\n",
    "        popup=label,\n",
    "        color=rainbow[cluster-1],\n",
    "        fill=True,\n",
    "        fill_color=rainbow[cluster-1],\n",
    "        fill_opacity=0.7).add_to(map_clusters)\n",
    "\n",
    "map_clusters"
   ]
  },
  {
   "cell_type": "markdown",
   "metadata": {},
   "source": [
    "<h4>7. 1. 1. Export the data...</h4>"
   ]
  },
  {
   "cell_type": "code",
   "execution_count": 109,
   "metadata": {},
   "outputs": [],
   "source": [
    "kuwait_merged.to_csv('kuwait_neighborhood_clusters.csv')"
   ]
  },
  {
   "cell_type": "markdown",
   "metadata": {},
   "source": [
    "<h4>7. 1. 2. ...Import the data if continuing from here</h4>"
   ]
  },
  {
   "cell_type": "code",
   "execution_count": null,
   "metadata": {},
   "outputs": [],
   "source": [
    "kuwait_merged = pd.read_csv('kuwait_neighborhood_clusters.csv')"
   ]
  },
  {
   "cell_type": "markdown",
   "metadata": {},
   "source": [
    "## 8. Gaining Insight\n",
    "<a id=\"8\"></a>"
   ]
  },
  {
   "cell_type": "markdown",
   "metadata": {},
   "source": [
    "<h3>8. 1. Lets grab a fresh copy of the latest data</h3>"
   ]
  },
  {
   "cell_type": "code",
   "execution_count": 110,
   "metadata": {},
   "outputs": [],
   "source": [
    "kuwait_labeled = kuwait_merged[['Cluster Labels', 'Area', '1st Most Common Venue', '2nd Most Common Venue', '3rd Most Common Venue']].copy()"
   ]
  },
  {
   "cell_type": "code",
   "execution_count": 111,
   "metadata": {
    "scrolled": true
   },
   "outputs": [],
   "source": [
    "kuwait_labeled = kuwait_labeled.sort_values('Cluster Labels')\n",
    "kuwait_labeled = kuwait_labeled.reset_index()"
   ]
  },
  {
   "cell_type": "markdown",
   "metadata": {},
   "source": [
    "<h4>8. 1. 1. Clean it up</h4>"
   ]
  },
  {
   "cell_type": "code",
   "execution_count": 112,
   "metadata": {
    "scrolled": false
   },
   "outputs": [
    {
     "data": {
      "text/html": [
       "<div>\n",
       "<style scoped>\n",
       "    .dataframe tbody tr th:only-of-type {\n",
       "        vertical-align: middle;\n",
       "    }\n",
       "\n",
       "    .dataframe tbody tr th {\n",
       "        vertical-align: top;\n",
       "    }\n",
       "\n",
       "    .dataframe thead th {\n",
       "        text-align: right;\n",
       "    }\n",
       "</style>\n",
       "<table border=\"1\" class=\"dataframe\">\n",
       "  <thead>\n",
       "    <tr style=\"text-align: right;\">\n",
       "      <th></th>\n",
       "      <th>Cluster Labels</th>\n",
       "      <th>Area</th>\n",
       "      <th>1st Most Common Venue</th>\n",
       "      <th>2nd Most Common Venue</th>\n",
       "      <th>3rd Most Common Venue</th>\n",
       "    </tr>\n",
       "  </thead>\n",
       "  <tbody>\n",
       "    <tr>\n",
       "      <th>0</th>\n",
       "      <td>0</td>\n",
       "      <td>Salwa</td>\n",
       "      <td>Grocery Store</td>\n",
       "      <td>Fast Food Restaurant</td>\n",
       "      <td>Supermarket</td>\n",
       "    </tr>\n",
       "    <tr>\n",
       "      <th>1</th>\n",
       "      <td>0</td>\n",
       "      <td>Surra</td>\n",
       "      <td>Grocery Store</td>\n",
       "      <td>Middle Eastern Restaurant</td>\n",
       "      <td>Coffee Shop</td>\n",
       "    </tr>\n",
       "    <tr>\n",
       "      <th>2</th>\n",
       "      <td>0</td>\n",
       "      <td>Mangaf</td>\n",
       "      <td>Grocery Store</td>\n",
       "      <td>Café</td>\n",
       "      <td>Shopping Mall</td>\n",
       "    </tr>\n",
       "    <tr>\n",
       "      <th>3</th>\n",
       "      <td>0</td>\n",
       "      <td>Granada</td>\n",
       "      <td>Intersection</td>\n",
       "      <td>Coffee Shop</td>\n",
       "      <td>Grocery Store</td>\n",
       "    </tr>\n",
       "    <tr>\n",
       "      <th>4</th>\n",
       "      <td>0</td>\n",
       "      <td>Doha</td>\n",
       "      <td>Fast Food Restaurant</td>\n",
       "      <td>Intersection</td>\n",
       "      <td>Coffee Shop</td>\n",
       "    </tr>\n",
       "  </tbody>\n",
       "</table>\n",
       "</div>"
      ],
      "text/plain": [
       "   Cluster Labels     Area 1st Most Common Venue      2nd Most Common Venue  \\\n",
       "0               0    Salwa         Grocery Store       Fast Food Restaurant   \n",
       "1               0    Surra         Grocery Store  Middle Eastern Restaurant   \n",
       "2               0   Mangaf         Grocery Store                       Café   \n",
       "3               0  Granada          Intersection                Coffee Shop   \n",
       "4               0     Doha  Fast Food Restaurant               Intersection   \n",
       "\n",
       "  3rd Most Common Venue  \n",
       "0           Supermarket  \n",
       "1           Coffee Shop  \n",
       "2         Shopping Mall  \n",
       "3         Grocery Store  \n",
       "4           Coffee Shop  "
      ]
     },
     "execution_count": 112,
     "metadata": {},
     "output_type": "execute_result"
    }
   ],
   "source": [
    "kuwait_labeled.drop(['index'], axis=1, inplace=True)\n",
    "kuwait_labeled.head()"
   ]
  },
  {
   "cell_type": "code",
   "execution_count": 113,
   "metadata": {},
   "outputs": [
    {
     "data": {
      "text/html": [
       "<div>\n",
       "<style scoped>\n",
       "    .dataframe tbody tr th:only-of-type {\n",
       "        vertical-align: middle;\n",
       "    }\n",
       "\n",
       "    .dataframe tbody tr th {\n",
       "        vertical-align: top;\n",
       "    }\n",
       "\n",
       "    .dataframe thead th {\n",
       "        text-align: right;\n",
       "    }\n",
       "</style>\n",
       "<table border=\"1\" class=\"dataframe\">\n",
       "  <thead>\n",
       "    <tr style=\"text-align: right;\">\n",
       "      <th></th>\n",
       "      <th>Cluster Labels</th>\n",
       "      <th>Area</th>\n",
       "      <th>1st Most Common Venue</th>\n",
       "      <th>2nd Most Common Venue</th>\n",
       "      <th>3rd Most Common Venue</th>\n",
       "    </tr>\n",
       "  </thead>\n",
       "  <tbody>\n",
       "    <tr>\n",
       "      <th>76</th>\n",
       "      <td>6</td>\n",
       "      <td>Shamiya</td>\n",
       "      <td>Coffee Shop</td>\n",
       "      <td>Supermarket</td>\n",
       "      <td>Fast Food Restaurant</td>\n",
       "    </tr>\n",
       "    <tr>\n",
       "      <th>77</th>\n",
       "      <td>7</td>\n",
       "      <td>Agricultural Wafra</td>\n",
       "      <td>Farm</td>\n",
       "      <td>Garden</td>\n",
       "      <td>Zoo Exhibit</td>\n",
       "    </tr>\n",
       "    <tr>\n",
       "      <th>78</th>\n",
       "      <td>7</td>\n",
       "      <td>Wafra</td>\n",
       "      <td>Farm</td>\n",
       "      <td>Stables</td>\n",
       "      <td>Bathing Area</td>\n",
       "    </tr>\n",
       "    <tr>\n",
       "      <th>79</th>\n",
       "      <td>7</td>\n",
       "      <td>Da'iya</td>\n",
       "      <td>Beach</td>\n",
       "      <td>Coffee Shop</td>\n",
       "      <td>Middle Eastern Restaurant</td>\n",
       "    </tr>\n",
       "    <tr>\n",
       "      <th>80</th>\n",
       "      <td>7</td>\n",
       "      <td>Misīla</td>\n",
       "      <td>Beach</td>\n",
       "      <td>Grocery Store</td>\n",
       "      <td>Fast Food Restaurant</td>\n",
       "    </tr>\n",
       "  </tbody>\n",
       "</table>\n",
       "</div>"
      ],
      "text/plain": [
       "    Cluster Labels                Area 1st Most Common Venue  \\\n",
       "76               6             Shamiya           Coffee Shop   \n",
       "77               7  Agricultural Wafra                  Farm   \n",
       "78               7               Wafra                  Farm   \n",
       "79               7              Da'iya                 Beach   \n",
       "80               7              Misīla                 Beach   \n",
       "\n",
       "   2nd Most Common Venue      3rd Most Common Venue  \n",
       "76           Supermarket       Fast Food Restaurant  \n",
       "77                Garden                Zoo Exhibit  \n",
       "78               Stables               Bathing Area  \n",
       "79           Coffee Shop  Middle Eastern Restaurant  \n",
       "80         Grocery Store       Fast Food Restaurant  "
      ]
     },
     "execution_count": 113,
     "metadata": {},
     "output_type": "execute_result"
    }
   ],
   "source": [
    "kuwait_labeled.tail()"
   ]
  },
  {
   "cell_type": "markdown",
   "metadata": {},
   "source": [
    "<h3>8. 2. Breaking down each cluster group</h3>"
   ]
  },
  {
   "cell_type": "markdown",
   "metadata": {},
   "source": [
    "<h4>8. 2. 1. Look into Cluster 0</h4>"
   ]
  },
  {
   "cell_type": "code",
   "execution_count": 136,
   "metadata": {},
   "outputs": [
    {
     "name": "stdout",
     "output_type": "stream",
     "text": [
      "Cluster 0:\n",
      "The first most popular amongst the cluster is Intersection\n",
      "The second most popular amongst the cluster is Coffee Shop\n",
      "The third most popular amongst the cluster is Coffee Shop\n"
     ]
    }
   ],
   "source": [
    "df_clus0 = kuwait_merged.loc[kuwait_merged['Cluster Labels'] == 0]\n",
    "first_0 = df_clus0['1st Most Common Venue'].value_counts().index[0]\n",
    "second_0 = df_clus0['2nd Most Common Venue'].value_counts().index[0]\n",
    "third_0 = df_clus0['3rd Most Common Venue'].value_counts().index[0]\n",
    "print('Cluster 0:')\n",
    "print('The first most popular amongst the cluster is', first_0)\n",
    "print('The second most popular amongst the cluster is', second_0)\n",
    "print('The third most popular amongst the cluster is', third_0)"
   ]
  },
  {
   "cell_type": "markdown",
   "metadata": {},
   "source": [
    "<h4>8. 2. 2. Look into Cluster 1</h4>"
   ]
  },
  {
   "cell_type": "code",
   "execution_count": 157,
   "metadata": {
    "scrolled": true
   },
   "outputs": [
    {
     "name": "stdout",
     "output_type": "stream",
     "text": [
      "Cluster 1:\n",
      "The first most popular amongst the cluster is Harbor / Marina\n",
      "The second most popular amongst the cluster is Farm\n",
      "The third most popular amongst the cluster is Farmers Market\n"
     ]
    }
   ],
   "source": [
    "df_clus1 = kuwait_merged.loc[kuwait_merged['Cluster Labels'] == 1]\n",
    "first_1 = df_clus1['1st Most Common Venue'].value_counts().index[0]\n",
    "second_1 = df_clus1['2nd Most Common Venue'].value_counts().index[0]\n",
    "third_1 = df_clus1['3rd Most Common Venue'].value_counts().index[0]\n",
    "print('Cluster 1:')\n",
    "print('The first most popular amongst the cluster is', first_1)\n",
    "print('The second most popular amongst the cluster is', second_1)\n",
    "print('The third most popular amongst the cluster is', third_1)"
   ]
  },
  {
   "cell_type": "markdown",
   "metadata": {},
   "source": [
    "<h4>8. 2. 3. Look into Cluster 2</h4>"
   ]
  },
  {
   "cell_type": "code",
   "execution_count": 158,
   "metadata": {},
   "outputs": [
    {
     "name": "stdout",
     "output_type": "stream",
     "text": [
      "Cluster 2:\n",
      "The first most popular amongst the cluster is Fast Food Restaurant\n",
      "The second most popular amongst the cluster is Zoo Exhibit\n",
      "The third most popular amongst the cluster is Park\n"
     ]
    }
   ],
   "source": [
    "df_clus2 = kuwait_merged.loc[kuwait_merged['Cluster Labels'] == 2]\n",
    "first_2 = df_clus2['1st Most Common Venue'].value_counts().index[0]\n",
    "second_2 = df_clus2['2nd Most Common Venue'].value_counts().index[0]\n",
    "third_2 = df_clus2['3rd Most Common Venue'].value_counts().index[0]\n",
    "print('Cluster 2:')\n",
    "print('The first most popular amongst the cluster is', first_2)\n",
    "print('The second most popular amongst the cluster is', second_2)\n",
    "print('The third most popular amongst the cluster is', third_2)"
   ]
  },
  {
   "cell_type": "markdown",
   "metadata": {},
   "source": [
    "<h4>8. 2. 4. Look into Cluster 3</h4>"
   ]
  },
  {
   "cell_type": "code",
   "execution_count": 159,
   "metadata": {},
   "outputs": [
    {
     "name": "stdout",
     "output_type": "stream",
     "text": [
      "Cluster 3:\n",
      "The first most popular amongst the cluster is Café\n",
      "The second most popular amongst the cluster is Coffee Shop\n",
      "The third most popular amongst the cluster is Café\n"
     ]
    }
   ],
   "source": [
    "df_clus3 = kuwait_merged.loc[kuwait_merged['Cluster Labels'] == 3]\n",
    "first_3 = df_clus3['1st Most Common Venue'].value_counts().index[0]\n",
    "second_3 = df_clus3['2nd Most Common Venue'].value_counts().index[0]\n",
    "third_3 = df_clus3['3rd Most Common Venue'].value_counts().index[0]\n",
    "print('Cluster 3:')\n",
    "print('The first most popular amongst the cluster is', first_3)\n",
    "print('The second most popular amongst the cluster is', second_3)\n",
    "print('The third most popular amongst the cluster is', third_3)"
   ]
  },
  {
   "cell_type": "markdown",
   "metadata": {},
   "source": [
    "<h4>8. 2. 5. Look into Cluster 4</h4>"
   ]
  },
  {
   "cell_type": "code",
   "execution_count": 160,
   "metadata": {},
   "outputs": [
    {
     "name": "stdout",
     "output_type": "stream",
     "text": [
      "Cluster 4:\n",
      "The first most popular amongst the cluster is Zoo Exhibit\n",
      "The second most popular amongst the cluster is Beach\n",
      "The third most popular amongst the cluster is Dog Run\n"
     ]
    }
   ],
   "source": [
    "df_clus4 = kuwait_merged.loc[kuwait_merged['Cluster Labels'] == 4]\n",
    "first_4 = df_clus4['1st Most Common Venue'].value_counts().index[0]\n",
    "second_4 = df_clus4['2nd Most Common Venue'].value_counts().index[0]\n",
    "third_4 = df_clus4['3rd Most Common Venue'].value_counts().index[0]\n",
    "print('Cluster 4:')\n",
    "print('The first most popular amongst the cluster is', first_4)\n",
    "print('The second most popular amongst the cluster is', second_4)\n",
    "print('The third most popular amongst the cluster is', third_4)"
   ]
  },
  {
   "cell_type": "markdown",
   "metadata": {},
   "source": [
    "<h4>8. 2. 6. Look into Cluster 5</h4>"
   ]
  },
  {
   "cell_type": "code",
   "execution_count": 161,
   "metadata": {},
   "outputs": [
    {
     "name": "stdout",
     "output_type": "stream",
     "text": [
      "Cluster 5:\n",
      "The first most popular amongst the cluster is Café\n",
      "The second most popular amongst the cluster is Café\n",
      "The third most popular amongst the cluster is Restaurant\n"
     ]
    }
   ],
   "source": [
    "df_clus5 = kuwait_merged.loc[kuwait_merged['Cluster Labels'] == 5]\n",
    "first_5 = df_clus5['1st Most Common Venue'].value_counts().index[0]\n",
    "second_5 = df_clus5['2nd Most Common Venue'].value_counts().index[0]\n",
    "third_5 = df_clus5['3rd Most Common Venue'].value_counts().index[0]\n",
    "print('Cluster 5:')\n",
    "print('The first most popular amongst the cluster is', first_5)\n",
    "print('The second most popular amongst the cluster is', second_5)\n",
    "print('The third most popular amongst the cluster is', third_5)"
   ]
  },
  {
   "cell_type": "markdown",
   "metadata": {},
   "source": [
    "<h4>8. 2. 7. Look into Cluster 6</h4>"
   ]
  },
  {
   "cell_type": "code",
   "execution_count": 162,
   "metadata": {
    "scrolled": true
   },
   "outputs": [
    {
     "name": "stdout",
     "output_type": "stream",
     "text": [
      "Cluster 6:\n",
      "The first most popular amongst the cluster is Coffee Shop\n",
      "The second most popular amongst the cluster is Bakery\n",
      "The third most popular amongst the cluster is Sandwich Place\n"
     ]
    }
   ],
   "source": [
    "df_clus6 = kuwait_merged.loc[kuwait_merged['Cluster Labels'] == 6]\n",
    "first_6 = df_clus6['1st Most Common Venue'].value_counts().index[0]\n",
    "second_6 = df_clus6['2nd Most Common Venue'].value_counts().index[0]\n",
    "third_6 = df_clus6['3rd Most Common Venue'].value_counts().index[0]\n",
    "print('Cluster 6:')\n",
    "print('The first most popular amongst the cluster is', first_6)\n",
    "print('The second most popular amongst the cluster is', second_6)\n",
    "print('The third most popular amongst the cluster is', third_6)"
   ]
  },
  {
   "cell_type": "markdown",
   "metadata": {},
   "source": [
    "<h4>8. 2. 8. Look into Cluster 7</h4>"
   ]
  },
  {
   "cell_type": "code",
   "execution_count": 163,
   "metadata": {},
   "outputs": [
    {
     "name": "stdout",
     "output_type": "stream",
     "text": [
      "Cluster 7:\n",
      "The first most popular amongst the cluster is Beach\n",
      "The second most popular amongst the cluster is Stables\n",
      "The third most popular amongst the cluster is Fast Food Restaurant\n"
     ]
    }
   ],
   "source": [
    "df_clus7 = kuwait_merged.loc[kuwait_merged['Cluster Labels'] == 7]\n",
    "first_7 = df_clus7['1st Most Common Venue'].value_counts().index[0]\n",
    "second_7 = df_clus7['2nd Most Common Venue'].value_counts().index[0]\n",
    "third_7 = df_clus7['3rd Most Common Venue'].value_counts().index[0]\n",
    "print('Cluster 7:')\n",
    "print('The first most popular amongst the cluster is', first_7)\n",
    "print('The second most popular amongst the cluster is', second_7)\n",
    "print('The third most popular amongst the cluster is', third_7)"
   ]
  },
  {
   "cell_type": "markdown",
   "metadata": {},
   "source": [
    "<h3>8. 3. Merge this into a Dataframe</h3>"
   ]
  },
  {
   "cell_type": "code",
   "execution_count": 164,
   "metadata": {},
   "outputs": [],
   "source": [
    "df_kuwait_clus = pd.DataFrame()\n",
    "df_kuwait_clus['Cluster'] = [0, 1, 2, 3, 4, 5, 6, 7]\n",
    "df_kuwait_clus['1st Most Popular Venue'] = [first_0, first_1, first_2, first_3, first_4, first_5, first_6, first_7]\n",
    "df_kuwait_clus['2nd Most Popular Venue'] = [second_0, second_1, second_2, second_3, second_4, second_5, second_6, second_7]\n",
    "df_kuwait_clus['3rd Most Popular Venue'] = [third_0, third_1, third_2, third_3, third_4, third_5, third_6, third_7]"
   ]
  },
  {
   "cell_type": "code",
   "execution_count": 145,
   "metadata": {},
   "outputs": [
    {
     "data": {
      "text/html": [
       "<div>\n",
       "<style scoped>\n",
       "    .dataframe tbody tr th:only-of-type {\n",
       "        vertical-align: middle;\n",
       "    }\n",
       "\n",
       "    .dataframe tbody tr th {\n",
       "        vertical-align: top;\n",
       "    }\n",
       "\n",
       "    .dataframe thead th {\n",
       "        text-align: right;\n",
       "    }\n",
       "</style>\n",
       "<table border=\"1\" class=\"dataframe\">\n",
       "  <thead>\n",
       "    <tr style=\"text-align: right;\">\n",
       "      <th></th>\n",
       "      <th>Cluster</th>\n",
       "      <th>1st Most Popular Venue</th>\n",
       "      <th>2nd Most Popular Venue</th>\n",
       "      <th>3rd Most Popular Venue</th>\n",
       "    </tr>\n",
       "  </thead>\n",
       "  <tbody>\n",
       "    <tr>\n",
       "      <th>0</th>\n",
       "      <td>0</td>\n",
       "      <td>Intersection</td>\n",
       "      <td>Coffee Shop</td>\n",
       "      <td>Coffee Shop</td>\n",
       "    </tr>\n",
       "    <tr>\n",
       "      <th>1</th>\n",
       "      <td>1</td>\n",
       "      <td>Harbor / Marina</td>\n",
       "      <td>Beach</td>\n",
       "      <td>Farmers Market</td>\n",
       "    </tr>\n",
       "    <tr>\n",
       "      <th>2</th>\n",
       "      <td>2</td>\n",
       "      <td>Garden</td>\n",
       "      <td>Zoo Exhibit</td>\n",
       "      <td>Park</td>\n",
       "    </tr>\n",
       "    <tr>\n",
       "      <th>3</th>\n",
       "      <td>3</td>\n",
       "      <td>Café</td>\n",
       "      <td>Coffee Shop</td>\n",
       "      <td>Café</td>\n",
       "    </tr>\n",
       "    <tr>\n",
       "      <th>4</th>\n",
       "      <td>4</td>\n",
       "      <td>Zoo Exhibit</td>\n",
       "      <td>Beach</td>\n",
       "      <td>Campground</td>\n",
       "    </tr>\n",
       "    <tr>\n",
       "      <th>5</th>\n",
       "      <td>5</td>\n",
       "      <td>Café</td>\n",
       "      <td>Café</td>\n",
       "      <td>Restaurant</td>\n",
       "    </tr>\n",
       "    <tr>\n",
       "      <th>6</th>\n",
       "      <td>6</td>\n",
       "      <td>Coffee Shop</td>\n",
       "      <td>Coffee Shop</td>\n",
       "      <td>Sandwich Place</td>\n",
       "    </tr>\n",
       "    <tr>\n",
       "      <th>7</th>\n",
       "      <td>7</td>\n",
       "      <td>Beach</td>\n",
       "      <td>Stables</td>\n",
       "      <td>Fast Food Restaurant</td>\n",
       "    </tr>\n",
       "  </tbody>\n",
       "</table>\n",
       "</div>"
      ],
      "text/plain": [
       "   Cluster 1st Most Popular Venue 2nd Most Popular Venue  \\\n",
       "0        0           Intersection            Coffee Shop   \n",
       "1        1        Harbor / Marina                  Beach   \n",
       "2        2                 Garden            Zoo Exhibit   \n",
       "3        3                   Café            Coffee Shop   \n",
       "4        4            Zoo Exhibit                  Beach   \n",
       "5        5                   Café                   Café   \n",
       "6        6            Coffee Shop            Coffee Shop   \n",
       "7        7                  Beach                Stables   \n",
       "\n",
       "  3rd Most Popular Venue  \n",
       "0            Coffee Shop  \n",
       "1         Farmers Market  \n",
       "2                   Park  \n",
       "3                   Café  \n",
       "4             Campground  \n",
       "5             Restaurant  \n",
       "6         Sandwich Place  \n",
       "7   Fast Food Restaurant  "
      ]
     },
     "execution_count": 145,
     "metadata": {},
     "output_type": "execute_result"
    }
   ],
   "source": [
    "df_kuwait_clus"
   ]
  },
  {
   "cell_type": "markdown",
   "metadata": {},
   "source": [
    "<h4>8. 3. 1. Export this info...</h4>"
   ]
  },
  {
   "cell_type": "code",
   "execution_count": 165,
   "metadata": {},
   "outputs": [],
   "source": [
    "df_kuwait_clus.to_csv('df_kuwait_clus.csv')"
   ]
  },
  {
   "cell_type": "markdown",
   "metadata": {},
   "source": [
    "<h4>8. 3. 2. ...Import if continuing from here</h4>"
   ]
  },
  {
   "cell_type": "code",
   "execution_count": null,
   "metadata": {},
   "outputs": [],
   "source": [
    "df_kuwait_clus = pd.read_csv('df_kuwait_clus.csv')"
   ]
  },
  {
   "cell_type": "markdown",
   "metadata": {},
   "source": [
    "## 9. Results\n",
    "<a id=\"9\"></a>"
   ]
  },
  {
   "cell_type": "code",
   "execution_count": 190,
   "metadata": {},
   "outputs": [],
   "source": [
    "df_analyze = kuwait_merged.copy()"
   ]
  },
  {
   "cell_type": "code",
   "execution_count": 270,
   "metadata": {},
   "outputs": [],
   "source": [
    "columns = df_analyze.columns.values[4:]"
   ]
  },
  {
   "cell_type": "markdown",
   "metadata": {},
   "source": [
    "<h3>9. 1. Score each cluster based on similarity to cluster</h3>"
   ]
  },
  {
   "cell_type": "code",
   "execution_count": 271,
   "metadata": {},
   "outputs": [],
   "source": [
    "df_analyze.iloc[[0]]\n",
    "i=0\n",
    "score=[]\n",
    "while i < len(df_analyze):\n",
    "    score_i = 0\n",
    "    search = df_analyze.iloc[[i]]\n",
    "    if df_analyze['Cluster Labels'].iloc[i] == 0:\n",
    "        for ind, column in enumerate(columns):\n",
    "            if first_0 == df_analyze[column].iloc[i]:\n",
    "                score_i += 100*(10-ind)\n",
    "        score.append(score_i)\n",
    "    if df_analyze['Cluster Labels'].iloc[i] == 1:\n",
    "        for ind, column in enumerate(columns):\n",
    "            if first_1 == df_analyze[column].iloc[i]:\n",
    "                score_i += 100*(10-ind)\n",
    "        score.append(score_i)\n",
    "    if df_analyze['Cluster Labels'].iloc[i] == 2:\n",
    "        for ind, column in enumerate(columns):\n",
    "            if first_2 == df_analyze[column].iloc[i]:\n",
    "                score_i += 100*(10-ind)\n",
    "        score.append(score_i)\n",
    "    if df_analyze['Cluster Labels'].iloc[i] == 3:\n",
    "        for ind, column in enumerate(columns):\n",
    "            if first_3 == df_analyze[column].iloc[i]:\n",
    "                score_i += 100*(10-ind)\n",
    "        score.append(score_i)\n",
    "    if df_analyze['Cluster Labels'].iloc[i] == 4:\n",
    "        for ind, column in enumerate(columns):\n",
    "            if first_4 == df_analyze[column].iloc[i]:\n",
    "                score_i += 100*(10-ind)\n",
    "        score.append(score_i)\n",
    "    if df_analyze['Cluster Labels'].iloc[i] == 5:\n",
    "        for ind, column in enumerate(columns):\n",
    "            if first_5 == df_analyze[column].iloc[i]:\n",
    "                score_i += 100*(10-ind)\n",
    "        score.append(score_i)\n",
    "    if df_analyze['Cluster Labels'].iloc[i] == 6:\n",
    "        for ind, column in enumerate(columns):\n",
    "            if first_6 == df_analyze[column].iloc[i]:\n",
    "                score_i += 100*(10-ind)\n",
    "        score.append(score_i)\n",
    "    if df_analyze['Cluster Labels'].iloc[i] == 7:\n",
    "        for ind, column in enumerate(columns):\n",
    "            if first_7 == df_analyze[column].iloc[i]:\n",
    "                score_i += 100*(10-ind)\n",
    "        score.append(score_i)\n",
    "    i += 1"
   ]
  },
  {
   "cell_type": "code",
   "execution_count": 292,
   "metadata": {},
   "outputs": [
    {
     "data": {
      "text/plain": [
       "array(['1st Most Common Venue', '2nd Most Common Venue',\n",
       "       '3rd Most Common Venue', '4th Most Common Venue',\n",
       "       '5th Most Common Venue', '6th Most Common Venue',\n",
       "       '7th Most Common Venue', '8th Most Common Venue',\n",
       "       '9th Most Common Venue', '10th Most Common Venue', 'Score'],\n",
       "      dtype=object)"
      ]
     },
     "execution_count": 292,
     "metadata": {},
     "output_type": "execute_result"
    }
   ],
   "source": [
    "columns"
   ]
  },
  {
   "cell_type": "markdown",
   "metadata": {},
   "source": [
    "<h4>9. 1. 2. Get recommendations for each cluster</h4>"
   ]
  },
  {
   "cell_type": "code",
   "execution_count": 294,
   "metadata": {},
   "outputs": [
    {
     "name": "stderr",
     "output_type": "stream",
     "text": [
      "C:\\Users\\deez\\Anaconda3\\lib\\site-packages\\ipykernel_launcher.py:8: SettingWithCopyWarning: \n",
      "A value is trying to be set on a copy of a slice from a DataFrame.\n",
      "Try using .loc[row_indexer,col_indexer] = value instead\n",
      "\n",
      "See the caveats in the documentation: http://pandas.pydata.org/pandas-docs/stable/indexing.html#indexing-view-versus-copy\n",
      "  \n",
      "C:\\Users\\deez\\Anaconda3\\lib\\site-packages\\ipykernel_launcher.py:9: SettingWithCopyWarning: \n",
      "A value is trying to be set on a copy of a slice from a DataFrame.\n",
      "Try using .loc[row_indexer,col_indexer] = value instead\n",
      "\n",
      "See the caveats in the documentation: http://pandas.pydata.org/pandas-docs/stable/indexing.html#indexing-view-versus-copy\n",
      "  if __name__ == '__main__':\n",
      "C:\\Users\\deez\\Anaconda3\\lib\\site-packages\\ipykernel_launcher.py:10: SettingWithCopyWarning: \n",
      "A value is trying to be set on a copy of a slice from a DataFrame.\n",
      "Try using .loc[row_indexer,col_indexer] = value instead\n",
      "\n",
      "See the caveats in the documentation: http://pandas.pydata.org/pandas-docs/stable/indexing.html#indexing-view-versus-copy\n",
      "  # Remove the CWD from sys.path while we load stuff.\n",
      "C:\\Users\\deez\\Anaconda3\\lib\\site-packages\\pandas\\core\\frame.py:3940: SettingWithCopyWarning: \n",
      "A value is trying to be set on a copy of a slice from a DataFrame\n",
      "\n",
      "See the caveats in the documentation: http://pandas.pydata.org/pandas-docs/stable/indexing.html#indexing-view-versus-copy\n",
      "  errors=errors)\n"
     ]
    }
   ],
   "source": [
    "#Recommendations for cluster 0\n",
    "df_recom = df_analyze.loc[df_analyze['Cluster Labels'] == 0].copy()\n",
    "df_recom.reset_index(inplace=True)\n",
    "df_recom.drop(['index'], axis=1, inplace=True)\n",
    "for i in columns[:-1]:\n",
    "    df_recom.drop([i], axis=1, inplace=True)\n",
    "clus_0_recom = df_recom.loc[df_recom['Score'] == 0]\n",
    "clus_0_recom['Recommendation 1'] = first_0\n",
    "clus_0_recom['Recommendation 2'] = second_0\n",
    "clus_0_recom['Recommendation 3'] = third_0\n",
    "clus_0_recom.reset_index(inplace=True)\n",
    "clus_0_recom.drop(['index'], axis=1, inplace=True)\n",
    "clus_0_recom.drop(['Score'], axis=1, inplace=True)\n",
    "\n",
    "#Recommendations for cluster 1\n",
    "df_recom = df_analyze.loc[df_analyze['Cluster Labels'] == 1]\n",
    "df_recom.reset_index(inplace=True)\n",
    "df_recom.drop(['index'], axis=1, inplace=True)\n",
    "for i in columns[:-1]:\n",
    "    df_recom.drop([i], axis=1, inplace=True)\n",
    "clus_1_recom = df_recom.loc[df_recom['Score'] == 0].copy()\n",
    "clus_1_recom['Recommendation 1'] = first_1\n",
    "clus_1_recom['Recommendation 2'] = second_1\n",
    "clus_1_recom['Recommendation 3'] = third_1\n",
    "clus_1_recom.reset_index(inplace=True)\n",
    "clus_1_recom.drop(['index'], axis=1, inplace=True)\n",
    "clus_1_recom.drop(['Score'], axis=1, inplace=True)\n",
    "\n",
    "#Recommendations for cluster 2\n",
    "df_recom = df_analyze.loc[df_analyze['Cluster Labels'] == 2]\n",
    "df_recom.reset_index(inplace=True)\n",
    "df_recom.drop(['index'], axis=1, inplace=True)\n",
    "for i in columns[:-1]:\n",
    "    df_recom.drop([i], axis=1, inplace=True)\n",
    "clus_2_recom = df_recom.loc[df_recom['Score'] == 0].copy()\n",
    "clus_2_recom['Recommendation 1'] = first_2\n",
    "clus_2_recom['Recommendation 2'] = second_2\n",
    "clus_2_recom['Recommendation 3'] = third_2\n",
    "clus_2_recom.reset_index(inplace=True)\n",
    "clus_2_recom.drop(['index'], axis=1, inplace=True)\n",
    "clus_2_recom.drop(['Score'], axis=1, inplace=True)\n",
    "\n",
    "#Recommendations for cluster 3\n",
    "df_recom = df_analyze.loc[df_analyze['Cluster Labels'] == 3]\n",
    "df_recom.reset_index(inplace=True)\n",
    "df_recom.drop(['index'], axis=1, inplace=True)\n",
    "for i in columns[:-1]:\n",
    "    df_recom.drop([i], axis=1, inplace=True)\n",
    "clus_3_recom = df_recom.loc[df_recom['Score'] == 0].copy()\n",
    "clus_3_recom['Recommendation 1'] = first_3\n",
    "clus_3_recom['Recommendation 2'] = second_3\n",
    "clus_3_recom['Recommendation 3'] = third_3\n",
    "clus_3_recom.reset_index(inplace=True)\n",
    "clus_3_recom.drop(['index'], axis=1, inplace=True)\n",
    "clus_3_recom.drop(['Score'], axis=1, inplace=True)\n",
    "\n",
    "#Recommendations for cluster 4\n",
    "df_recom = df_analyze.loc[df_analyze['Cluster Labels'] == 4]\n",
    "df_recom.reset_index(inplace=True)\n",
    "df_recom.drop(['index'], axis=1, inplace=True)\n",
    "for i in columns[:-1]:\n",
    "    df_recom.drop([i], axis=1, inplace=True)\n",
    "clus_4_recom = df_recom.loc[df_recom['Score'] == 0].copy()\n",
    "clus_4_recom['Recommendation 1'] = first_4\n",
    "clus_4_recom['Recommendation 2'] = second_4\n",
    "clus_4_recom['Recommendation 3'] = third_4\n",
    "clus_4_recom.reset_index(inplace=True)\n",
    "clus_4_recom.drop(['index'], axis=1, inplace=True)\n",
    "clus_4_recom.drop(['Score'], axis=1, inplace=True)\n",
    "\n",
    "#Recommendations for cluster 5\n",
    "df_recom = df_analyze.loc[df_analyze['Cluster Labels'] == 5]\n",
    "df_recom.reset_index(inplace=True)\n",
    "df_recom.drop(['index'], axis=1, inplace=True)\n",
    "for i in columns[:-1]:\n",
    "    df_recom.drop([i], axis=1, inplace=True)\n",
    "clus_5_recom = df_recom.loc[df_recom['Score'] == 0].copy()\n",
    "clus_5_recom['Recommendation 1'] = first_5\n",
    "clus_5_recom['Recommendation 2'] = second_5\n",
    "clus_5_recom['Recommendation 3'] = third_5\n",
    "clus_5_recom.reset_index(inplace=True)\n",
    "clus_5_recom.drop(['index'], axis=1, inplace=True)\n",
    "clus_5_recom.drop(['Score'], axis=1, inplace=True)\n",
    "\n",
    "#Recommendations for cluster 6\n",
    "df_recom = df_analyze.loc[df_analyze['Cluster Labels'] == 6]\n",
    "df_recom.reset_index(inplace=True)\n",
    "df_recom.drop(['index'], axis=1, inplace=True)\n",
    "for i in columns[:-1]:\n",
    "    df_recom.drop([i], axis=1, inplace=True)\n",
    "clus_6_recom = df_recom.loc[df_recom['Score'] == 0].copy()\n",
    "clus_6_recom['Recommendation 1'] = first_6\n",
    "clus_6_recom['Recommendation 2'] = second_6\n",
    "clus_6_recom['Recommendation 3'] = third_6\n",
    "clus_6_recom.reset_index(inplace=True)\n",
    "clus_6_recom.drop(['index'], axis=1, inplace=True)\n",
    "clus_6_recom.drop(['Score'], axis=1, inplace=True)\n",
    "\n",
    "#Recommendations for cluster 7\n",
    "df_recom = df_analyze.loc[df_analyze['Cluster Labels'] == 7]\n",
    "df_recom.reset_index(inplace=True)\n",
    "df_recom.drop(['index'], axis=1, inplace=True)\n",
    "for i in columns[:-1]:\n",
    "    df_recom.drop([i], axis=1, inplace=True)\n",
    "clus_7_recom = df_recom.loc[df_recom['Score'] == 0].copy()\n",
    "clus_7_recom['Recommendation 1'] = first_7\n",
    "clus_7_recom['Recommendation 2'] = second_7\n",
    "clus_7_recom['Recommendation 3'] = third_7\n",
    "clus_7_recom.reset_index(inplace=True)\n",
    "clus_7_recom.drop(['index'], axis=1, inplace=True)\n",
    "clus_7_recom.drop(['Score'], axis=1, inplace=True)"
   ]
  },
  {
   "cell_type": "markdown",
   "metadata": {},
   "source": [
    "## 10. Discussion & Recommendations\n",
    "<a id=\"10\"></a>"
   ]
  },
  {
   "cell_type": "markdown",
   "metadata": {},
   "source": [
    "<h3>10. 1. Cluster 0</h3>"
   ]
  },
  {
   "cell_type": "markdown",
   "metadata": {},
   "source": [
    "For Cluster 0, the most popular venue among the cluster is coffee shop. Of the members of Cluster 0, the below list of areas are prime candidates for a new coffee shop as they do not have any, or the available ones are not very popular. This suggests that if interested in opening a new coffee shop, we should focus on Cluster 0, as it is the cluster where coffee shops will thrive. \n",
    "\n",
    "These below listed areas in particular are great for a <b>Coffee Shop</b>."
   ]
  },
  {
   "cell_type": "code",
   "execution_count": 296,
   "metadata": {},
   "outputs": [
    {
     "data": {
      "text/html": [
       "<div>\n",
       "<style scoped>\n",
       "    .dataframe tbody tr th:only-of-type {\n",
       "        vertical-align: middle;\n",
       "    }\n",
       "\n",
       "    .dataframe tbody tr th {\n",
       "        vertical-align: top;\n",
       "    }\n",
       "\n",
       "    .dataframe thead th {\n",
       "        text-align: right;\n",
       "    }\n",
       "</style>\n",
       "<table border=\"1\" class=\"dataframe\">\n",
       "  <thead>\n",
       "    <tr style=\"text-align: right;\">\n",
       "      <th></th>\n",
       "      <th>Area</th>\n",
       "      <th>Latitude</th>\n",
       "      <th>Longitude</th>\n",
       "      <th>Cluster Labels</th>\n",
       "      <th>Recommendation 1</th>\n",
       "      <th>Recommendation 2</th>\n",
       "      <th>Recommendation 3</th>\n",
       "    </tr>\n",
       "  </thead>\n",
       "  <tbody>\n",
       "    <tr>\n",
       "      <th>0</th>\n",
       "      <td>Abdullah as-Salim</td>\n",
       "      <td>29.351859</td>\n",
       "      <td>47.983692</td>\n",
       "      <td>0</td>\n",
       "      <td>Intersection</td>\n",
       "      <td>Coffee Shop</td>\n",
       "      <td>Coffee Shop</td>\n",
       "    </tr>\n",
       "    <tr>\n",
       "      <th>1</th>\n",
       "      <td>Adiliya</td>\n",
       "      <td>29.328058</td>\n",
       "      <td>47.983692</td>\n",
       "      <td>0</td>\n",
       "      <td>Intersection</td>\n",
       "      <td>Coffee Shop</td>\n",
       "      <td>Coffee Shop</td>\n",
       "    </tr>\n",
       "    <tr>\n",
       "      <th>2</th>\n",
       "      <td>Khaldiya</td>\n",
       "      <td>29.325196</td>\n",
       "      <td>47.963885</td>\n",
       "      <td>0</td>\n",
       "      <td>Intersection</td>\n",
       "      <td>Coffee Shop</td>\n",
       "      <td>Coffee Shop</td>\n",
       "    </tr>\n",
       "    <tr>\n",
       "      <th>3</th>\n",
       "      <td>Surra</td>\n",
       "      <td>29.313775</td>\n",
       "      <td>48.008460</td>\n",
       "      <td>0</td>\n",
       "      <td>Intersection</td>\n",
       "      <td>Coffee Shop</td>\n",
       "      <td>Coffee Shop</td>\n",
       "    </tr>\n",
       "    <tr>\n",
       "      <th>4</th>\n",
       "      <td>Rumaithiya</td>\n",
       "      <td>29.318030</td>\n",
       "      <td>48.075392</td>\n",
       "      <td>0</td>\n",
       "      <td>Intersection</td>\n",
       "      <td>Coffee Shop</td>\n",
       "      <td>Coffee Shop</td>\n",
       "    </tr>\n",
       "    <tr>\n",
       "      <th>5</th>\n",
       "      <td>Jabriya</td>\n",
       "      <td>29.318057</td>\n",
       "      <td>48.025805</td>\n",
       "      <td>0</td>\n",
       "      <td>Intersection</td>\n",
       "      <td>Coffee Shop</td>\n",
       "      <td>Coffee Shop</td>\n",
       "    </tr>\n",
       "    <tr>\n",
       "      <th>6</th>\n",
       "      <td>Sha'ab</td>\n",
       "      <td>29.349965</td>\n",
       "      <td>48.028283</td>\n",
       "      <td>0</td>\n",
       "      <td>Intersection</td>\n",
       "      <td>Coffee Shop</td>\n",
       "      <td>Coffee Shop</td>\n",
       "    </tr>\n",
       "    <tr>\n",
       "      <th>7</th>\n",
       "      <td>Nuqra</td>\n",
       "      <td>29.333035</td>\n",
       "      <td>48.008615</td>\n",
       "      <td>0</td>\n",
       "      <td>Intersection</td>\n",
       "      <td>Coffee Shop</td>\n",
       "      <td>Coffee Shop</td>\n",
       "    </tr>\n",
       "    <tr>\n",
       "      <th>8</th>\n",
       "      <td>Salwa</td>\n",
       "      <td>29.296487</td>\n",
       "      <td>48.079379</td>\n",
       "      <td>0</td>\n",
       "      <td>Intersection</td>\n",
       "      <td>Coffee Shop</td>\n",
       "      <td>Coffee Shop</td>\n",
       "    </tr>\n",
       "    <tr>\n",
       "      <th>9</th>\n",
       "      <td>Maidan Hawalli</td>\n",
       "      <td>29.338792</td>\n",
       "      <td>48.035417</td>\n",
       "      <td>0</td>\n",
       "      <td>Intersection</td>\n",
       "      <td>Coffee Shop</td>\n",
       "      <td>Coffee Shop</td>\n",
       "    </tr>\n",
       "    <tr>\n",
       "      <th>10</th>\n",
       "      <td>Mubarak al-Kabeer</td>\n",
       "      <td>29.188350</td>\n",
       "      <td>48.085315</td>\n",
       "      <td>0</td>\n",
       "      <td>Intersection</td>\n",
       "      <td>Coffee Shop</td>\n",
       "      <td>Coffee Shop</td>\n",
       "    </tr>\n",
       "    <tr>\n",
       "      <th>11</th>\n",
       "      <td>Abu Hulaifa</td>\n",
       "      <td>29.127176</td>\n",
       "      <td>48.125024</td>\n",
       "      <td>0</td>\n",
       "      <td>Intersection</td>\n",
       "      <td>Coffee Shop</td>\n",
       "      <td>Coffee Shop</td>\n",
       "    </tr>\n",
       "    <tr>\n",
       "      <th>12</th>\n",
       "      <td>Jabir al-Ali Suburb</td>\n",
       "      <td>29.169273</td>\n",
       "      <td>48.085315</td>\n",
       "      <td>0</td>\n",
       "      <td>Intersection</td>\n",
       "      <td>Coffee Shop</td>\n",
       "      <td>Coffee Shop</td>\n",
       "    </tr>\n",
       "  </tbody>\n",
       "</table>\n",
       "</div>"
      ],
      "text/plain": [
       "                   Area   Latitude  Longitude  Cluster Labels  \\\n",
       "0     Abdullah as-Salim  29.351859  47.983692               0   \n",
       "1               Adiliya  29.328058  47.983692               0   \n",
       "2              Khaldiya  29.325196  47.963885               0   \n",
       "3                 Surra  29.313775  48.008460               0   \n",
       "4            Rumaithiya  29.318030  48.075392               0   \n",
       "5               Jabriya  29.318057  48.025805               0   \n",
       "6                Sha'ab  29.349965  48.028283               0   \n",
       "7                 Nuqra  29.333035  48.008615               0   \n",
       "8                 Salwa  29.296487  48.079379               0   \n",
       "9        Maidan Hawalli  29.338792  48.035417               0   \n",
       "10    Mubarak al-Kabeer  29.188350  48.085315               0   \n",
       "11          Abu Hulaifa  29.127176  48.125024               0   \n",
       "12  Jabir al-Ali Suburb  29.169273  48.085315               0   \n",
       "\n",
       "   Recommendation 1 Recommendation 2 Recommendation 3  \n",
       "0      Intersection      Coffee Shop      Coffee Shop  \n",
       "1      Intersection      Coffee Shop      Coffee Shop  \n",
       "2      Intersection      Coffee Shop      Coffee Shop  \n",
       "3      Intersection      Coffee Shop      Coffee Shop  \n",
       "4      Intersection      Coffee Shop      Coffee Shop  \n",
       "5      Intersection      Coffee Shop      Coffee Shop  \n",
       "6      Intersection      Coffee Shop      Coffee Shop  \n",
       "7      Intersection      Coffee Shop      Coffee Shop  \n",
       "8      Intersection      Coffee Shop      Coffee Shop  \n",
       "9      Intersection      Coffee Shop      Coffee Shop  \n",
       "10     Intersection      Coffee Shop      Coffee Shop  \n",
       "11     Intersection      Coffee Shop      Coffee Shop  \n",
       "12     Intersection      Coffee Shop      Coffee Shop  "
      ]
     },
     "execution_count": 296,
     "metadata": {},
     "output_type": "execute_result"
    }
   ],
   "source": [
    "clus_0_recom"
   ]
  },
  {
   "cell_type": "markdown",
   "metadata": {},
   "source": [
    "<h3>10. 2. Cluster 1</h3>"
   ]
  },
  {
   "cell_type": "markdown",
   "metadata": {},
   "source": [
    "For Cluster 1, the most popular venues happen to be outdoor in nature. This includes harbors, farms, and farmer markets. If we are interested in opening any businesses that cater to outdoor activities, we should focus on Cluster 1. For this cluster, a good suggestion would be to start a Farmers Market in any of the below areas.\n",
    "\n",
    "I suggest starting a <b>Farmers Market</b> in Subhan."
   ]
  },
  {
   "cell_type": "code",
   "execution_count": 298,
   "metadata": {},
   "outputs": [
    {
     "data": {
      "text/html": [
       "<div>\n",
       "<style scoped>\n",
       "    .dataframe tbody tr th:only-of-type {\n",
       "        vertical-align: middle;\n",
       "    }\n",
       "\n",
       "    .dataframe tbody tr th {\n",
       "        vertical-align: top;\n",
       "    }\n",
       "\n",
       "    .dataframe thead th {\n",
       "        text-align: right;\n",
       "    }\n",
       "</style>\n",
       "<table border=\"1\" class=\"dataframe\">\n",
       "  <thead>\n",
       "    <tr style=\"text-align: right;\">\n",
       "      <th></th>\n",
       "      <th>Area</th>\n",
       "      <th>Latitude</th>\n",
       "      <th>Longitude</th>\n",
       "      <th>Cluster Labels</th>\n",
       "      <th>Recommendation 1</th>\n",
       "      <th>Recommendation 2</th>\n",
       "      <th>Recommendation 3</th>\n",
       "    </tr>\n",
       "  </thead>\n",
       "  <tbody>\n",
       "    <tr>\n",
       "      <th>0</th>\n",
       "      <td>Jabir al-Ahmad City</td>\n",
       "      <td>29.348166</td>\n",
       "      <td>47.758825</td>\n",
       "      <td>1</td>\n",
       "      <td>Harbor / Marina</td>\n",
       "      <td>Farm</td>\n",
       "      <td>Farmers Market</td>\n",
       "    </tr>\n",
       "    <tr>\n",
       "      <th>1</th>\n",
       "      <td>Sabhān</td>\n",
       "      <td>29.226426</td>\n",
       "      <td>48.014416</td>\n",
       "      <td>1</td>\n",
       "      <td>Harbor / Marina</td>\n",
       "      <td>Farm</td>\n",
       "      <td>Farmers Market</td>\n",
       "    </tr>\n",
       "  </tbody>\n",
       "</table>\n",
       "</div>"
      ],
      "text/plain": [
       "                  Area   Latitude  Longitude  Cluster Labels Recommendation 1  \\\n",
       "0  Jabir al-Ahmad City  29.348166  47.758825               1  Harbor / Marina   \n",
       "1               Sabhān  29.226426  48.014416               1  Harbor / Marina   \n",
       "\n",
       "  Recommendation 2 Recommendation 3  \n",
       "0             Farm   Farmers Market  \n",
       "1             Farm   Farmers Market  "
      ]
     },
     "execution_count": 298,
     "metadata": {},
     "output_type": "execute_result"
    }
   ],
   "source": [
    "clus_1_recom"
   ]
  },
  {
   "cell_type": "markdown",
   "metadata": {},
   "source": [
    "<h3>10. 3. Cluster 2</h3>"
   ]
  },
  {
   "cell_type": "markdown",
   "metadata": {},
   "source": [
    "For Cluster 2, the most popular venues are fast food restaurants, followed by parks (Zoos and gardens). For anyone looking to open a fast food restaurant or a park, the below areas are prime candidates, as the people who live in these areas really enjoy these kinds of businesses. In addition, these areas do not have many popular fast food restaurants or parks.\n",
    "\n",
    "If interested in starting a <b>Fast Food Restaurant</b>, start one in Bneidar."
   ]
  },
  {
   "cell_type": "code",
   "execution_count": 299,
   "metadata": {},
   "outputs": [
    {
     "data": {
      "text/html": [
       "<div>\n",
       "<style scoped>\n",
       "    .dataframe tbody tr th:only-of-type {\n",
       "        vertical-align: middle;\n",
       "    }\n",
       "\n",
       "    .dataframe tbody tr th {\n",
       "        vertical-align: top;\n",
       "    }\n",
       "\n",
       "    .dataframe thead th {\n",
       "        text-align: right;\n",
       "    }\n",
       "</style>\n",
       "<table border=\"1\" class=\"dataframe\">\n",
       "  <thead>\n",
       "    <tr style=\"text-align: right;\">\n",
       "      <th></th>\n",
       "      <th>Area</th>\n",
       "      <th>Latitude</th>\n",
       "      <th>Longitude</th>\n",
       "      <th>Cluster Labels</th>\n",
       "      <th>Recommendation 1</th>\n",
       "      <th>Recommendation 2</th>\n",
       "      <th>Recommendation 3</th>\n",
       "    </tr>\n",
       "  </thead>\n",
       "  <tbody>\n",
       "    <tr>\n",
       "      <th>0</th>\n",
       "      <td>Nuzha</td>\n",
       "      <td>29.341390</td>\n",
       "      <td>47.993597</td>\n",
       "      <td>2</td>\n",
       "      <td>Fast Food Restaurant</td>\n",
       "      <td>Zoo Exhibit</td>\n",
       "      <td>Park</td>\n",
       "    </tr>\n",
       "    <tr>\n",
       "      <th>1</th>\n",
       "      <td>Qairawān</td>\n",
       "      <td>29.300282</td>\n",
       "      <td>47.800761</td>\n",
       "      <td>2</td>\n",
       "      <td>Fast Food Restaurant</td>\n",
       "      <td>Zoo Exhibit</td>\n",
       "      <td>Park</td>\n",
       "    </tr>\n",
       "    <tr>\n",
       "      <th>2</th>\n",
       "      <td>Qusūr</td>\n",
       "      <td>29.216796</td>\n",
       "      <td>48.062393</td>\n",
       "      <td>2</td>\n",
       "      <td>Fast Food Restaurant</td>\n",
       "      <td>Zoo Exhibit</td>\n",
       "      <td>Park</td>\n",
       "    </tr>\n",
       "    <tr>\n",
       "      <th>3</th>\n",
       "      <td>Hadiya</td>\n",
       "      <td>29.145882</td>\n",
       "      <td>48.092758</td>\n",
       "      <td>2</td>\n",
       "      <td>Fast Food Restaurant</td>\n",
       "      <td>Zoo Exhibit</td>\n",
       "      <td>Park</td>\n",
       "    </tr>\n",
       "    <tr>\n",
       "      <th>4</th>\n",
       "      <td>Bneidar</td>\n",
       "      <td>28.776297</td>\n",
       "      <td>48.284156</td>\n",
       "      <td>2</td>\n",
       "      <td>Fast Food Restaurant</td>\n",
       "      <td>Zoo Exhibit</td>\n",
       "      <td>Park</td>\n",
       "    </tr>\n",
       "  </tbody>\n",
       "</table>\n",
       "</div>"
      ],
      "text/plain": [
       "       Area   Latitude  Longitude  Cluster Labels      Recommendation 1  \\\n",
       "0     Nuzha  29.341390  47.993597               2  Fast Food Restaurant   \n",
       "1  Qairawān  29.300282  47.800761               2  Fast Food Restaurant   \n",
       "2     Qusūr  29.216796  48.062393               2  Fast Food Restaurant   \n",
       "3    Hadiya  29.145882  48.092758               2  Fast Food Restaurant   \n",
       "4   Bneidar  28.776297  48.284156               2  Fast Food Restaurant   \n",
       "\n",
       "  Recommendation 2 Recommendation 3  \n",
       "0      Zoo Exhibit             Park  \n",
       "1      Zoo Exhibit             Park  \n",
       "2      Zoo Exhibit             Park  \n",
       "3      Zoo Exhibit             Park  \n",
       "4      Zoo Exhibit             Park  "
      ]
     },
     "execution_count": 299,
     "metadata": {},
     "output_type": "execute_result"
    }
   ],
   "source": [
    "clus_2_recom"
   ]
  },
  {
   "cell_type": "markdown",
   "metadata": {},
   "source": [
    "<h3>10. 4. Cluster 3</h3>"
   ]
  },
  {
   "cell_type": "markdown",
   "metadata": {},
   "source": [
    "For Cluster 3, the most popular venues are cafes. Anyone interested in opening a cafe, should focus on Cluster 3 but specifically on these below mentioned areas as they enjoy cafes but do not have any popular ones in their vicinity.\n",
    "\n",
    "Interested in opening a <b>Cafe</b>? Open one in Abu Fteira."
   ]
  },
  {
   "cell_type": "code",
   "execution_count": 300,
   "metadata": {},
   "outputs": [
    {
     "data": {
      "text/html": [
       "<div>\n",
       "<style scoped>\n",
       "    .dataframe tbody tr th:only-of-type {\n",
       "        vertical-align: middle;\n",
       "    }\n",
       "\n",
       "    .dataframe tbody tr th {\n",
       "        vertical-align: top;\n",
       "    }\n",
       "\n",
       "    .dataframe thead th {\n",
       "        text-align: right;\n",
       "    }\n",
       "</style>\n",
       "<table border=\"1\" class=\"dataframe\">\n",
       "  <thead>\n",
       "    <tr style=\"text-align: right;\">\n",
       "      <th></th>\n",
       "      <th>Area</th>\n",
       "      <th>Latitude</th>\n",
       "      <th>Longitude</th>\n",
       "      <th>Cluster Labels</th>\n",
       "      <th>Recommendation 1</th>\n",
       "      <th>Recommendation 2</th>\n",
       "      <th>Recommendation 3</th>\n",
       "    </tr>\n",
       "  </thead>\n",
       "  <tbody>\n",
       "    <tr>\n",
       "      <th>0</th>\n",
       "      <td>Qurain</td>\n",
       "      <td>29.202195</td>\n",
       "      <td>48.077872</td>\n",
       "      <td>3</td>\n",
       "      <td>Café</td>\n",
       "      <td>Coffee Shop</td>\n",
       "      <td>Café</td>\n",
       "    </tr>\n",
       "    <tr>\n",
       "      <th>1</th>\n",
       "      <td>Abu 'Fteira</td>\n",
       "      <td>29.197372</td>\n",
       "      <td>48.102684</td>\n",
       "      <td>3</td>\n",
       "      <td>Café</td>\n",
       "      <td>Coffee Shop</td>\n",
       "      <td>Café</td>\n",
       "    </tr>\n",
       "    <tr>\n",
       "      <th>2</th>\n",
       "      <td>Ahmadi</td>\n",
       "      <td>29.085376</td>\n",
       "      <td>48.065471</td>\n",
       "      <td>3</td>\n",
       "      <td>Café</td>\n",
       "      <td>Coffee Shop</td>\n",
       "      <td>Café</td>\n",
       "    </tr>\n",
       "  </tbody>\n",
       "</table>\n",
       "</div>"
      ],
      "text/plain": [
       "          Area   Latitude  Longitude  Cluster Labels Recommendation 1  \\\n",
       "0       Qurain  29.202195  48.077872               3             Café   \n",
       "1  Abu 'Fteira  29.197372  48.102684               3             Café   \n",
       "2       Ahmadi  29.085376  48.065471               3             Café   \n",
       "\n",
       "  Recommendation 2 Recommendation 3  \n",
       "0      Coffee Shop             Café  \n",
       "1      Coffee Shop             Café  \n",
       "2      Coffee Shop             Café  "
      ]
     },
     "execution_count": 300,
     "metadata": {},
     "output_type": "execute_result"
    }
   ],
   "source": [
    "clus_3_recom"
   ]
  },
  {
   "cell_type": "markdown",
   "metadata": {},
   "source": [
    "<h3>10. 5. Cluster 4</h3>"
   ]
  },
  {
   "cell_type": "markdown",
   "metadata": {},
   "source": [
    "For Cluster 4, the most popular venues are outdoor activities such as Zoos, Beaches, or Dog Runs. FOr anyone interested in starting a business in any of these industries, I would recommend that they focus on the below mentioned areas. These areas are lovers of the outdoors, as well as suffering from a lack of these venues.\n",
    "\n",
    "I would suggest opening a <b>Dog Run</b> in Nuwaiseeb."
   ]
  },
  {
   "cell_type": "code",
   "execution_count": 301,
   "metadata": {},
   "outputs": [
    {
     "data": {
      "text/html": [
       "<div>\n",
       "<style scoped>\n",
       "    .dataframe tbody tr th:only-of-type {\n",
       "        vertical-align: middle;\n",
       "    }\n",
       "\n",
       "    .dataframe tbody tr th {\n",
       "        vertical-align: top;\n",
       "    }\n",
       "\n",
       "    .dataframe thead th {\n",
       "        text-align: right;\n",
       "    }\n",
       "</style>\n",
       "<table border=\"1\" class=\"dataframe\">\n",
       "  <thead>\n",
       "    <tr style=\"text-align: right;\">\n",
       "      <th></th>\n",
       "      <th>Area</th>\n",
       "      <th>Latitude</th>\n",
       "      <th>Longitude</th>\n",
       "      <th>Cluster Labels</th>\n",
       "      <th>Recommendation 1</th>\n",
       "      <th>Recommendation 2</th>\n",
       "      <th>Recommendation 3</th>\n",
       "    </tr>\n",
       "  </thead>\n",
       "  <tbody>\n",
       "    <tr>\n",
       "      <th>0</th>\n",
       "      <td>Rigga</td>\n",
       "      <td>29.150403</td>\n",
       "      <td>48.105360</td>\n",
       "      <td>4</td>\n",
       "      <td>Zoo Exhibit</td>\n",
       "      <td>Beach</td>\n",
       "      <td>Dog Run</td>\n",
       "    </tr>\n",
       "    <tr>\n",
       "      <th>1</th>\n",
       "      <td>Nuwaiseeb</td>\n",
       "      <td>28.592370</td>\n",
       "      <td>48.368883</td>\n",
       "      <td>4</td>\n",
       "      <td>Zoo Exhibit</td>\n",
       "      <td>Beach</td>\n",
       "      <td>Dog Run</td>\n",
       "    </tr>\n",
       "  </tbody>\n",
       "</table>\n",
       "</div>"
      ],
      "text/plain": [
       "        Area   Latitude  Longitude  Cluster Labels Recommendation 1  \\\n",
       "0      Rigga  29.150403  48.105360               4      Zoo Exhibit   \n",
       "1  Nuwaiseeb  28.592370  48.368883               4      Zoo Exhibit   \n",
       "\n",
       "  Recommendation 2 Recommendation 3  \n",
       "0            Beach          Dog Run  \n",
       "1            Beach          Dog Run  "
      ]
     },
     "execution_count": 301,
     "metadata": {},
     "output_type": "execute_result"
    }
   ],
   "source": [
    "clus_4_recom"
   ]
  },
  {
   "cell_type": "markdown",
   "metadata": {},
   "source": [
    "<h3>10. 6. Cluster 5</h3>"
   ]
  },
  {
   "cell_type": "markdown",
   "metadata": {},
   "source": [
    "For Cluster 5, the most popular venues are cafes and restaurants. This cluster enjoys the indoors and would benefit the most from a cafe or restaurant as these below areas are lacking in both.\n",
    "\n",
    "My recommendation is to open a <b>Restaurant</b> in Abdullah Port."
   ]
  },
  {
   "cell_type": "code",
   "execution_count": 302,
   "metadata": {},
   "outputs": [
    {
     "data": {
      "text/html": [
       "<div>\n",
       "<style scoped>\n",
       "    .dataframe tbody tr th:only-of-type {\n",
       "        vertical-align: middle;\n",
       "    }\n",
       "\n",
       "    .dataframe tbody tr th {\n",
       "        vertical-align: top;\n",
       "    }\n",
       "\n",
       "    .dataframe thead th {\n",
       "        text-align: right;\n",
       "    }\n",
       "</style>\n",
       "<table border=\"1\" class=\"dataframe\">\n",
       "  <thead>\n",
       "    <tr style=\"text-align: right;\">\n",
       "      <th></th>\n",
       "      <th>Area</th>\n",
       "      <th>Latitude</th>\n",
       "      <th>Longitude</th>\n",
       "      <th>Cluster Labels</th>\n",
       "      <th>Recommendation 1</th>\n",
       "      <th>Recommendation 2</th>\n",
       "      <th>Recommendation 3</th>\n",
       "    </tr>\n",
       "  </thead>\n",
       "  <tbody>\n",
       "    <tr>\n",
       "      <th>0</th>\n",
       "      <td>Abdullah Port</td>\n",
       "      <td>29.044722</td>\n",
       "      <td>48.159167</td>\n",
       "      <td>5</td>\n",
       "      <td>Café</td>\n",
       "      <td>Café</td>\n",
       "      <td>Restaurant</td>\n",
       "    </tr>\n",
       "    <tr>\n",
       "      <th>1</th>\n",
       "      <td>Shu'aiba</td>\n",
       "      <td>29.044722</td>\n",
       "      <td>48.159167</td>\n",
       "      <td>5</td>\n",
       "      <td>Café</td>\n",
       "      <td>Café</td>\n",
       "      <td>Restaurant</td>\n",
       "    </tr>\n",
       "  </tbody>\n",
       "</table>\n",
       "</div>"
      ],
      "text/plain": [
       "            Area   Latitude  Longitude  Cluster Labels Recommendation 1  \\\n",
       "0  Abdullah Port  29.044722  48.159167               5             Café   \n",
       "1       Shu'aiba  29.044722  48.159167               5             Café   \n",
       "\n",
       "  Recommendation 2 Recommendation 3  \n",
       "0             Café       Restaurant  \n",
       "1             Café       Restaurant  "
      ]
     },
     "execution_count": 302,
     "metadata": {},
     "output_type": "execute_result"
    }
   ],
   "source": [
    "clus_5_recom"
   ]
  },
  {
   "cell_type": "markdown",
   "metadata": {},
   "source": [
    "<h3>10. 7. Cluster 6</h3>"
   ]
  },
  {
   "cell_type": "markdown",
   "metadata": {},
   "source": [
    "For Cluster 6, the most popular venues are coffee shops, bakeries, and delis. For anyone interested in starting a deli, or bakery, I would strongly suggest areas in this cluster. The main area being 'Adan' as this population has loves these kinds of businesses, and suffers from a lack of them. \n",
    "\n",
    "For a <b>Deli</b> or <b>Bakery</b> choose Adan."
   ]
  },
  {
   "cell_type": "code",
   "execution_count": 303,
   "metadata": {},
   "outputs": [
    {
     "data": {
      "text/html": [
       "<div>\n",
       "<style scoped>\n",
       "    .dataframe tbody tr th:only-of-type {\n",
       "        vertical-align: middle;\n",
       "    }\n",
       "\n",
       "    .dataframe tbody tr th {\n",
       "        vertical-align: top;\n",
       "    }\n",
       "\n",
       "    .dataframe thead th {\n",
       "        text-align: right;\n",
       "    }\n",
       "</style>\n",
       "<table border=\"1\" class=\"dataframe\">\n",
       "  <thead>\n",
       "    <tr style=\"text-align: right;\">\n",
       "      <th></th>\n",
       "      <th>Area</th>\n",
       "      <th>Latitude</th>\n",
       "      <th>Longitude</th>\n",
       "      <th>Cluster Labels</th>\n",
       "      <th>Recommendation 1</th>\n",
       "      <th>Recommendation 2</th>\n",
       "      <th>Recommendation 3</th>\n",
       "    </tr>\n",
       "  </thead>\n",
       "  <tbody>\n",
       "    <tr>\n",
       "      <th>0</th>\n",
       "      <td>Adān</td>\n",
       "      <td>29.22844</td>\n",
       "      <td>48.065471</td>\n",
       "      <td>6</td>\n",
       "      <td>Coffee Shop</td>\n",
       "      <td>Bakery</td>\n",
       "      <td>Sandwich Place</td>\n",
       "    </tr>\n",
       "  </tbody>\n",
       "</table>\n",
       "</div>"
      ],
      "text/plain": [
       "   Area  Latitude  Longitude  Cluster Labels Recommendation 1  \\\n",
       "0  Adān  29.22844  48.065471               6      Coffee Shop   \n",
       "\n",
       "  Recommendation 2 Recommendation 3  \n",
       "0           Bakery   Sandwich Place  "
      ]
     },
     "execution_count": 303,
     "metadata": {},
     "output_type": "execute_result"
    }
   ],
   "source": [
    "clus_6_recom"
   ]
  },
  {
   "cell_type": "markdown",
   "metadata": {},
   "source": [
    "<h3>10. 8. Cluster 7</h3>"
   ]
  },
  {
   "cell_type": "markdown",
   "metadata": {},
   "source": [
    "For Cluster 7, the most popular venues are the beach, stables, and fast food restaurants. This cluster is a rural cluster that enjoys the outdoors. For people interested in starting a business catering to the the outdoors, I would suggest this cluster. \n",
    "\n",
    "My recommendation: Open a <b>Horse Riding Stable</b> or <b>Restaurant</b> in Wafra."
   ]
  },
  {
   "cell_type": "code",
   "execution_count": 304,
   "metadata": {},
   "outputs": [
    {
     "data": {
      "text/html": [
       "<div>\n",
       "<style scoped>\n",
       "    .dataframe tbody tr th:only-of-type {\n",
       "        vertical-align: middle;\n",
       "    }\n",
       "\n",
       "    .dataframe tbody tr th {\n",
       "        vertical-align: top;\n",
       "    }\n",
       "\n",
       "    .dataframe thead th {\n",
       "        text-align: right;\n",
       "    }\n",
       "</style>\n",
       "<table border=\"1\" class=\"dataframe\">\n",
       "  <thead>\n",
       "    <tr style=\"text-align: right;\">\n",
       "      <th></th>\n",
       "      <th>Area</th>\n",
       "      <th>Latitude</th>\n",
       "      <th>Longitude</th>\n",
       "      <th>Cluster Labels</th>\n",
       "      <th>Recommendation 1</th>\n",
       "      <th>Recommendation 2</th>\n",
       "      <th>Recommendation 3</th>\n",
       "    </tr>\n",
       "  </thead>\n",
       "  <tbody>\n",
       "    <tr>\n",
       "      <th>0</th>\n",
       "      <td>Wafra</td>\n",
       "      <td>28.593025</td>\n",
       "      <td>48.104852</td>\n",
       "      <td>7</td>\n",
       "      <td>Beach</td>\n",
       "      <td>Stables</td>\n",
       "      <td>Fast Food Restaurant</td>\n",
       "    </tr>\n",
       "    <tr>\n",
       "      <th>1</th>\n",
       "      <td>Agricultural Wafra</td>\n",
       "      <td>28.571539</td>\n",
       "      <td>48.059242</td>\n",
       "      <td>7</td>\n",
       "      <td>Beach</td>\n",
       "      <td>Stables</td>\n",
       "      <td>Fast Food Restaurant</td>\n",
       "    </tr>\n",
       "  </tbody>\n",
       "</table>\n",
       "</div>"
      ],
      "text/plain": [
       "                 Area   Latitude  Longitude  Cluster Labels Recommendation 1  \\\n",
       "0               Wafra  28.593025  48.104852               7            Beach   \n",
       "1  Agricultural Wafra  28.571539  48.059242               7            Beach   \n",
       "\n",
       "  Recommendation 2      Recommendation 3  \n",
       "0          Stables  Fast Food Restaurant  \n",
       "1          Stables  Fast Food Restaurant  "
      ]
     },
     "execution_count": 304,
     "metadata": {},
     "output_type": "execute_result"
    }
   ],
   "source": [
    "clus_7_recom"
   ]
  },
  {
   "cell_type": "markdown",
   "metadata": {},
   "source": [
    "## 11. Conclusion\n",
    "<a id=\"11\"></a>"
   ]
  },
  {
   "cell_type": "markdown",
   "metadata": {},
   "source": [
    "Based on the optimum number of clusters, and the clusterings made for all areas in Kuwait, the best areas and venues to open have been suggested. This study should be carried out periodically to determine the best locations for venues, as well as to adjust clustering based on new information as it comes in."
   ]
  }
 ],
 "metadata": {
  "kernelspec": {
   "display_name": "Python 3",
   "language": "python",
   "name": "python3"
  },
  "language_info": {
   "codemirror_mode": {
    "name": "ipython",
    "version": 3
   },
   "file_extension": ".py",
   "mimetype": "text/x-python",
   "name": "python",
   "nbconvert_exporter": "python",
   "pygments_lexer": "ipython3",
   "version": "3.7.3"
  }
 },
 "nbformat": 4,
 "nbformat_minor": 2
}
