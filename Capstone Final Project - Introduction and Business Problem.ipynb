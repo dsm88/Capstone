{
 "cells": [
  {
   "cell_type": "markdown",
   "metadata": {},
   "source": [
    "<a><img src=\"https://cdn.iconscout.com/icon/free/png-256/data-science-46-1170621.png\" width=\"100\" align=\"center\"></a>"
   ]
  },
  {
   "cell_type": "markdown",
   "metadata": {},
   "source": [
    "<h1><center>Applied Data Science Capstone</center></h1>\n",
    "<h3><center>Segmenting and Clustering Neighborhoods in Kuwait</center></h3>"
   ]
  },
  {
   "cell_type": "markdown",
   "metadata": {},
   "source": [
    "## 1. Introduction"
   ]
  },
  {
   "cell_type": "markdown",
   "metadata": {},
   "source": [
    "Welcome to my final project notebook. This notebook will delve deep into the neighborhoods of Kuwait and, using the Foursquare API, find venues in each neighborhood. After gathering all of the required data, analysis will follow to help cluster the different neighborhoods and gain insight into which areas are perfect for opening a new business. In addition, it will help suggest the best businesses to open in those areas."
   ]
  },
  {
   "cell_type": "markdown",
   "metadata": {},
   "source": [
    "## 2. Business Problem"
   ]
  },
  {
   "cell_type": "markdown",
   "metadata": {},
   "source": [
    "A client would like to open a new business, however they do not know what kind of business they would like to open, let alone where to open it. In this project, I will determine the optimal areas in Kuwait to open a business, as well as the perfect business for that area."
   ]
  }
 ],
 "metadata": {
  "kernelspec": {
   "display_name": "Python 3",
   "language": "python",
   "name": "python3"
  },
  "language_info": {
   "codemirror_mode": {
    "name": "ipython",
    "version": 3
   },
   "file_extension": ".py",
   "mimetype": "text/x-python",
   "name": "python",
   "nbconvert_exporter": "python",
   "pygments_lexer": "ipython3",
   "version": "3.7.3"
  }
 },
 "nbformat": 4,
 "nbformat_minor": 2
}
